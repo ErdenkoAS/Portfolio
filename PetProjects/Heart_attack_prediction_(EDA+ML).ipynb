{
  "cells": [
    {
      "cell_type": "markdown",
      "metadata": {
        "id": "Xk3PWiC3IUCe"
      },
      "source": [
        "##Project info"
      ]
    },
    {
      "cell_type": "markdown",
      "metadata": {
        "id": "mJ1DVrXLH-u0"
      },
      "source": [
        "Project Topic: \"Global Heart Attack Risk Prediction through Lifestyle and Health Data Analytics\"\n"
      ]
    },
    {
      "cell_type": "markdown",
      "metadata": {
        "id": "gkauajXDIF8h"
      },
      "source": [
        "Short Description: This project aims to utilize the Heart Attack Risk Prediction Dataset to develop a predictive model that identifies individuals at high risk of a myocardial infarction based on a myriad of health indicators, lifestyle choices, and socioeconomic factors. The ultimate goal is to unearth key predictors, understand the intricate relationships between different risk factors, and propose actionable insights for early intervention and heart disease prevention strategies.\n"
      ]
    },
    {
      "cell_type": "markdown",
      "metadata": {
        "id": "klA92SsjIjYO"
      },
      "source": [
        "##Data info"
      ]
    },
    {
      "cell_type": "markdown",
      "metadata": {
        "id": "N7JplaAqIzcB"
      },
      "source": [
        "kaggle link: https://www.kaggle.com/datasets/iamsouravbanerjee/heart-attack-prediction-dataset?resource=download"
      ]
    },
    {
      "cell_type": "markdown",
      "metadata": {
        "id": "fjcTXK_II5x6"
      },
      "source": [
        "Dataset Glossary (Column-wise)\n",
        "\n",
        "* Patient ID (other) - Unique identifier for each patient\n",
        "* Age (discrete) - Age of the patient\n",
        "* Sex (binary cat) - Gender of the patient (Male/Female)\n",
        "* Cholesterol (discrete) - Cholesterol levels of the patient\n",
        "* Blood Pressure (other) - Blood pressure of the patient (systolic/diastolic)\n",
        "* Heart Rate (nominal) - Heart rate of the patient\n",
        "* Diabetes (binary cat) - Whether the patient has diabetes (Yes/No)\n",
        "* Family History (binary cat) - Family history of heart-related problems (1: Yes, 0: No)\n",
        "* Smoking (binary cat) - Smoking status of the patient (1: Smoker, 0: Non-smoker)\n",
        "* Obesity (binary cat) - Obesity status of the patient (1: Obese, 0: Not obese)\n",
        "* Alcohol Consumption (cat) - Level of alcohol consumption by the patient (None/Light/Moderate/Heavy)\n",
        "* Exercise Hours Per Week (numeric) - Number of exercise hours per week\n",
        "* Diet (cat) - Dietary habits of the patient (Healthy/Average/Unhealthy)\n",
        "* Previous Heart Problems (binary cat) - Previous heart problems of the patient (1: Yes, 0: No)\n",
        "* Medication Use (binary cat) - Medication usage by the patient (1: Yes, 0: No)\n",
        "* Stress Level (cat/nominal) - Stress level reported by the patient (1-10)\n",
        "* Sedentary Hours Per Day (numeric) - Hours of sedentary activity per day\n",
        "* Income (numeric) - Income level of the patient\n",
        "* BMI (discrete) - Body Mass Index (BMI) of the patient\n",
        "* Triglycerides (discrete) - Triglyceride levels of the patient\n",
        "* Physical Activity Days Per Week (numeric) - Days of physical activity per week\n",
        "* Sleep Hours Per Day (cat/nominal) - Hours of sleep per day\n",
        "* Country (cat) - Country of the patient\n",
        "* Continent (cat) - Continent where the patient resides\n",
        "* Hemisphere (binary cat) - Hemisphere where the patient resides\n",
        "* Heart Attack Risk (binary cat) - Presence of heart attack risk (1: Yes, 0: No)"
      ]
    },
    {
      "cell_type": "markdown",
      "metadata": {
        "id": "pRVU-dy0Ngn0"
      },
      "source": [
        "##Data review"
      ]
    },
    {
      "cell_type": "code",
      "execution_count": null,
      "metadata": {
        "id": "vDaG69s4NfyB"
      },
      "outputs": [],
      "source": [
        "import pandas as pd\n",
        "import numpy as np\n",
        "import matplotlib.pyplot as plt\n",
        "import seaborn as sns\n",
        "%matplotlib inline"
      ]
    },
    {
      "cell_type": "code",
      "execution_count": null,
      "metadata": {
        "id": "lrktpmbeHjnm"
      },
      "outputs": [],
      "source": [
        "data = pd.read_csv('heart_attack_prediction_dataset.csv')"
      ]
    },
    {
      "cell_type": "code",
      "execution_count": null,
      "metadata": {
        "colab": {
          "base_uri": "https://localhost:8080/",
          "height": 394
        },
        "id": "u0E1SLt-ORU2",
        "outputId": "8bf29a45-38b0-490d-cb8f-763bb61109e7"
      },
      "outputs": [
        {
          "data": {
            "application/vnd.google.colaboratory.intrinsic+json": {
              "type": "dataframe",
              "variable_name": "data"
            },
            "text/html": [
              "\n",
              "  <div id=\"df-177b820d-20ea-42b0-9ba9-87b3749ff475\" class=\"colab-df-container\">\n",
              "    <div>\n",
              "<style scoped>\n",
              "    .dataframe tbody tr th:only-of-type {\n",
              "        vertical-align: middle;\n",
              "    }\n",
              "\n",
              "    .dataframe tbody tr th {\n",
              "        vertical-align: top;\n",
              "    }\n",
              "\n",
              "    .dataframe thead th {\n",
              "        text-align: right;\n",
              "    }\n",
              "</style>\n",
              "<table border=\"1\" class=\"dataframe\">\n",
              "  <thead>\n",
              "    <tr style=\"text-align: right;\">\n",
              "      <th></th>\n",
              "      <th>Patient ID</th>\n",
              "      <th>Age</th>\n",
              "      <th>Sex</th>\n",
              "      <th>Cholesterol</th>\n",
              "      <th>Blood Pressure</th>\n",
              "      <th>Heart Rate</th>\n",
              "      <th>Diabetes</th>\n",
              "      <th>Family History</th>\n",
              "      <th>Smoking</th>\n",
              "      <th>Obesity</th>\n",
              "      <th>...</th>\n",
              "      <th>Sedentary Hours Per Day</th>\n",
              "      <th>Income</th>\n",
              "      <th>BMI</th>\n",
              "      <th>Triglycerides</th>\n",
              "      <th>Physical Activity Days Per Week</th>\n",
              "      <th>Sleep Hours Per Day</th>\n",
              "      <th>Country</th>\n",
              "      <th>Continent</th>\n",
              "      <th>Hemisphere</th>\n",
              "      <th>Heart Attack Risk</th>\n",
              "    </tr>\n",
              "  </thead>\n",
              "  <tbody>\n",
              "    <tr>\n",
              "      <th>0</th>\n",
              "      <td>BMW7812</td>\n",
              "      <td>67</td>\n",
              "      <td>Male</td>\n",
              "      <td>208</td>\n",
              "      <td>158/88</td>\n",
              "      <td>72</td>\n",
              "      <td>0</td>\n",
              "      <td>0</td>\n",
              "      <td>1</td>\n",
              "      <td>0</td>\n",
              "      <td>...</td>\n",
              "      <td>6.615001</td>\n",
              "      <td>261404</td>\n",
              "      <td>31.251233</td>\n",
              "      <td>286</td>\n",
              "      <td>0</td>\n",
              "      <td>6</td>\n",
              "      <td>Argentina</td>\n",
              "      <td>South America</td>\n",
              "      <td>Southern Hemisphere</td>\n",
              "      <td>0</td>\n",
              "    </tr>\n",
              "    <tr>\n",
              "      <th>1</th>\n",
              "      <td>CZE1114</td>\n",
              "      <td>21</td>\n",
              "      <td>Male</td>\n",
              "      <td>389</td>\n",
              "      <td>165/93</td>\n",
              "      <td>98</td>\n",
              "      <td>1</td>\n",
              "      <td>1</td>\n",
              "      <td>1</td>\n",
              "      <td>1</td>\n",
              "      <td>...</td>\n",
              "      <td>4.963459</td>\n",
              "      <td>285768</td>\n",
              "      <td>27.194973</td>\n",
              "      <td>235</td>\n",
              "      <td>1</td>\n",
              "      <td>7</td>\n",
              "      <td>Canada</td>\n",
              "      <td>North America</td>\n",
              "      <td>Northern Hemisphere</td>\n",
              "      <td>0</td>\n",
              "    </tr>\n",
              "    <tr>\n",
              "      <th>2</th>\n",
              "      <td>BNI9906</td>\n",
              "      <td>21</td>\n",
              "      <td>Female</td>\n",
              "      <td>324</td>\n",
              "      <td>174/99</td>\n",
              "      <td>72</td>\n",
              "      <td>1</td>\n",
              "      <td>0</td>\n",
              "      <td>0</td>\n",
              "      <td>0</td>\n",
              "      <td>...</td>\n",
              "      <td>9.463426</td>\n",
              "      <td>235282</td>\n",
              "      <td>28.176571</td>\n",
              "      <td>587</td>\n",
              "      <td>4</td>\n",
              "      <td>4</td>\n",
              "      <td>France</td>\n",
              "      <td>Europe</td>\n",
              "      <td>Northern Hemisphere</td>\n",
              "      <td>0</td>\n",
              "    </tr>\n",
              "    <tr>\n",
              "      <th>3</th>\n",
              "      <td>JLN3497</td>\n",
              "      <td>84</td>\n",
              "      <td>Male</td>\n",
              "      <td>383</td>\n",
              "      <td>163/100</td>\n",
              "      <td>73</td>\n",
              "      <td>1</td>\n",
              "      <td>1</td>\n",
              "      <td>1</td>\n",
              "      <td>0</td>\n",
              "      <td>...</td>\n",
              "      <td>7.648981</td>\n",
              "      <td>125640</td>\n",
              "      <td>36.464704</td>\n",
              "      <td>378</td>\n",
              "      <td>3</td>\n",
              "      <td>4</td>\n",
              "      <td>Canada</td>\n",
              "      <td>North America</td>\n",
              "      <td>Northern Hemisphere</td>\n",
              "      <td>0</td>\n",
              "    </tr>\n",
              "    <tr>\n",
              "      <th>4</th>\n",
              "      <td>GFO8847</td>\n",
              "      <td>66</td>\n",
              "      <td>Male</td>\n",
              "      <td>318</td>\n",
              "      <td>91/88</td>\n",
              "      <td>93</td>\n",
              "      <td>1</td>\n",
              "      <td>1</td>\n",
              "      <td>1</td>\n",
              "      <td>1</td>\n",
              "      <td>...</td>\n",
              "      <td>1.514821</td>\n",
              "      <td>160555</td>\n",
              "      <td>21.809144</td>\n",
              "      <td>231</td>\n",
              "      <td>1</td>\n",
              "      <td>5</td>\n",
              "      <td>Thailand</td>\n",
              "      <td>Asia</td>\n",
              "      <td>Northern Hemisphere</td>\n",
              "      <td>0</td>\n",
              "    </tr>\n",
              "  </tbody>\n",
              "</table>\n",
              "<p>5 rows × 26 columns</p>\n",
              "</div>\n",
              "    <div class=\"colab-df-buttons\">\n",
              "\n",
              "  <div class=\"colab-df-container\">\n",
              "    <button class=\"colab-df-convert\" onclick=\"convertToInteractive('df-177b820d-20ea-42b0-9ba9-87b3749ff475')\"\n",
              "            title=\"Convert this dataframe to an interactive table.\"\n",
              "            style=\"display:none;\">\n",
              "\n",
              "  <svg xmlns=\"http://www.w3.org/2000/svg\" height=\"24px\" viewBox=\"0 -960 960 960\">\n",
              "    <path d=\"M120-120v-720h720v720H120Zm60-500h600v-160H180v160Zm220 220h160v-160H400v160Zm0 220h160v-160H400v160ZM180-400h160v-160H180v160Zm440 0h160v-160H620v160ZM180-180h160v-160H180v160Zm440 0h160v-160H620v160Z\"/>\n",
              "  </svg>\n",
              "    </button>\n",
              "\n",
              "  <style>\n",
              "    .colab-df-container {\n",
              "      display:flex;\n",
              "      gap: 12px;\n",
              "    }\n",
              "\n",
              "    .colab-df-convert {\n",
              "      background-color: #E8F0FE;\n",
              "      border: none;\n",
              "      border-radius: 50%;\n",
              "      cursor: pointer;\n",
              "      display: none;\n",
              "      fill: #1967D2;\n",
              "      height: 32px;\n",
              "      padding: 0 0 0 0;\n",
              "      width: 32px;\n",
              "    }\n",
              "\n",
              "    .colab-df-convert:hover {\n",
              "      background-color: #E2EBFA;\n",
              "      box-shadow: 0px 1px 2px rgba(60, 64, 67, 0.3), 0px 1px 3px 1px rgba(60, 64, 67, 0.15);\n",
              "      fill: #174EA6;\n",
              "    }\n",
              "\n",
              "    .colab-df-buttons div {\n",
              "      margin-bottom: 4px;\n",
              "    }\n",
              "\n",
              "    [theme=dark] .colab-df-convert {\n",
              "      background-color: #3B4455;\n",
              "      fill: #D2E3FC;\n",
              "    }\n",
              "\n",
              "    [theme=dark] .colab-df-convert:hover {\n",
              "      background-color: #434B5C;\n",
              "      box-shadow: 0px 1px 3px 1px rgba(0, 0, 0, 0.15);\n",
              "      filter: drop-shadow(0px 1px 2px rgba(0, 0, 0, 0.3));\n",
              "      fill: #FFFFFF;\n",
              "    }\n",
              "  </style>\n",
              "\n",
              "    <script>\n",
              "      const buttonEl =\n",
              "        document.querySelector('#df-177b820d-20ea-42b0-9ba9-87b3749ff475 button.colab-df-convert');\n",
              "      buttonEl.style.display =\n",
              "        google.colab.kernel.accessAllowed ? 'block' : 'none';\n",
              "\n",
              "      async function convertToInteractive(key) {\n",
              "        const element = document.querySelector('#df-177b820d-20ea-42b0-9ba9-87b3749ff475');\n",
              "        const dataTable =\n",
              "          await google.colab.kernel.invokeFunction('convertToInteractive',\n",
              "                                                    [key], {});\n",
              "        if (!dataTable) return;\n",
              "\n",
              "        const docLinkHtml = 'Like what you see? Visit the ' +\n",
              "          '<a target=\"_blank\" href=https://colab.research.google.com/notebooks/data_table.ipynb>data table notebook</a>'\n",
              "          + ' to learn more about interactive tables.';\n",
              "        element.innerHTML = '';\n",
              "        dataTable['output_type'] = 'display_data';\n",
              "        await google.colab.output.renderOutput(dataTable, element);\n",
              "        const docLink = document.createElement('div');\n",
              "        docLink.innerHTML = docLinkHtml;\n",
              "        element.appendChild(docLink);\n",
              "      }\n",
              "    </script>\n",
              "  </div>\n",
              "\n",
              "\n",
              "<div id=\"df-80dd0a68-02a4-49fc-af4c-1038f67fa832\">\n",
              "  <button class=\"colab-df-quickchart\" onclick=\"quickchart('df-80dd0a68-02a4-49fc-af4c-1038f67fa832')\"\n",
              "            title=\"Suggest charts\"\n",
              "            style=\"display:none;\">\n",
              "\n",
              "<svg xmlns=\"http://www.w3.org/2000/svg\" height=\"24px\"viewBox=\"0 0 24 24\"\n",
              "     width=\"24px\">\n",
              "    <g>\n",
              "        <path d=\"M19 3H5c-1.1 0-2 .9-2 2v14c0 1.1.9 2 2 2h14c1.1 0 2-.9 2-2V5c0-1.1-.9-2-2-2zM9 17H7v-7h2v7zm4 0h-2V7h2v10zm4 0h-2v-4h2v4z\"/>\n",
              "    </g>\n",
              "</svg>\n",
              "  </button>\n",
              "\n",
              "<style>\n",
              "  .colab-df-quickchart {\n",
              "      --bg-color: #E8F0FE;\n",
              "      --fill-color: #1967D2;\n",
              "      --hover-bg-color: #E2EBFA;\n",
              "      --hover-fill-color: #174EA6;\n",
              "      --disabled-fill-color: #AAA;\n",
              "      --disabled-bg-color: #DDD;\n",
              "  }\n",
              "\n",
              "  [theme=dark] .colab-df-quickchart {\n",
              "      --bg-color: #3B4455;\n",
              "      --fill-color: #D2E3FC;\n",
              "      --hover-bg-color: #434B5C;\n",
              "      --hover-fill-color: #FFFFFF;\n",
              "      --disabled-bg-color: #3B4455;\n",
              "      --disabled-fill-color: #666;\n",
              "  }\n",
              "\n",
              "  .colab-df-quickchart {\n",
              "    background-color: var(--bg-color);\n",
              "    border: none;\n",
              "    border-radius: 50%;\n",
              "    cursor: pointer;\n",
              "    display: none;\n",
              "    fill: var(--fill-color);\n",
              "    height: 32px;\n",
              "    padding: 0;\n",
              "    width: 32px;\n",
              "  }\n",
              "\n",
              "  .colab-df-quickchart:hover {\n",
              "    background-color: var(--hover-bg-color);\n",
              "    box-shadow: 0 1px 2px rgba(60, 64, 67, 0.3), 0 1px 3px 1px rgba(60, 64, 67, 0.15);\n",
              "    fill: var(--button-hover-fill-color);\n",
              "  }\n",
              "\n",
              "  .colab-df-quickchart-complete:disabled,\n",
              "  .colab-df-quickchart-complete:disabled:hover {\n",
              "    background-color: var(--disabled-bg-color);\n",
              "    fill: var(--disabled-fill-color);\n",
              "    box-shadow: none;\n",
              "  }\n",
              "\n",
              "  .colab-df-spinner {\n",
              "    border: 2px solid var(--fill-color);\n",
              "    border-color: transparent;\n",
              "    border-bottom-color: var(--fill-color);\n",
              "    animation:\n",
              "      spin 1s steps(1) infinite;\n",
              "  }\n",
              "\n",
              "  @keyframes spin {\n",
              "    0% {\n",
              "      border-color: transparent;\n",
              "      border-bottom-color: var(--fill-color);\n",
              "      border-left-color: var(--fill-color);\n",
              "    }\n",
              "    20% {\n",
              "      border-color: transparent;\n",
              "      border-left-color: var(--fill-color);\n",
              "      border-top-color: var(--fill-color);\n",
              "    }\n",
              "    30% {\n",
              "      border-color: transparent;\n",
              "      border-left-color: var(--fill-color);\n",
              "      border-top-color: var(--fill-color);\n",
              "      border-right-color: var(--fill-color);\n",
              "    }\n",
              "    40% {\n",
              "      border-color: transparent;\n",
              "      border-right-color: var(--fill-color);\n",
              "      border-top-color: var(--fill-color);\n",
              "    }\n",
              "    60% {\n",
              "      border-color: transparent;\n",
              "      border-right-color: var(--fill-color);\n",
              "    }\n",
              "    80% {\n",
              "      border-color: transparent;\n",
              "      border-right-color: var(--fill-color);\n",
              "      border-bottom-color: var(--fill-color);\n",
              "    }\n",
              "    90% {\n",
              "      border-color: transparent;\n",
              "      border-bottom-color: var(--fill-color);\n",
              "    }\n",
              "  }\n",
              "</style>\n",
              "\n",
              "  <script>\n",
              "    async function quickchart(key) {\n",
              "      const quickchartButtonEl =\n",
              "        document.querySelector('#' + key + ' button');\n",
              "      quickchartButtonEl.disabled = true;  // To prevent multiple clicks.\n",
              "      quickchartButtonEl.classList.add('colab-df-spinner');\n",
              "      try {\n",
              "        const charts = await google.colab.kernel.invokeFunction(\n",
              "            'suggestCharts', [key], {});\n",
              "      } catch (error) {\n",
              "        console.error('Error during call to suggestCharts:', error);\n",
              "      }\n",
              "      quickchartButtonEl.classList.remove('colab-df-spinner');\n",
              "      quickchartButtonEl.classList.add('colab-df-quickchart-complete');\n",
              "    }\n",
              "    (() => {\n",
              "      let quickchartButtonEl =\n",
              "        document.querySelector('#df-80dd0a68-02a4-49fc-af4c-1038f67fa832 button');\n",
              "      quickchartButtonEl.style.display =\n",
              "        google.colab.kernel.accessAllowed ? 'block' : 'none';\n",
              "    })();\n",
              "  </script>\n",
              "</div>\n",
              "    </div>\n",
              "  </div>\n"
            ],
            "text/plain": [
              "  Patient ID  Age     Sex  Cholesterol Blood Pressure  Heart Rate  Diabetes  \\\n",
              "0    BMW7812   67    Male          208         158/88          72         0   \n",
              "1    CZE1114   21    Male          389         165/93          98         1   \n",
              "2    BNI9906   21  Female          324         174/99          72         1   \n",
              "3    JLN3497   84    Male          383        163/100          73         1   \n",
              "4    GFO8847   66    Male          318          91/88          93         1   \n",
              "\n",
              "   Family History  Smoking  Obesity  ...  Sedentary Hours Per Day  Income  \\\n",
              "0               0        1        0  ...                 6.615001  261404   \n",
              "1               1        1        1  ...                 4.963459  285768   \n",
              "2               0        0        0  ...                 9.463426  235282   \n",
              "3               1        1        0  ...                 7.648981  125640   \n",
              "4               1        1        1  ...                 1.514821  160555   \n",
              "\n",
              "         BMI  Triglycerides  Physical Activity Days Per Week  \\\n",
              "0  31.251233            286                                0   \n",
              "1  27.194973            235                                1   \n",
              "2  28.176571            587                                4   \n",
              "3  36.464704            378                                3   \n",
              "4  21.809144            231                                1   \n",
              "\n",
              "   Sleep Hours Per Day    Country      Continent           Hemisphere  \\\n",
              "0                    6  Argentina  South America  Southern Hemisphere   \n",
              "1                    7     Canada  North America  Northern Hemisphere   \n",
              "2                    4     France         Europe  Northern Hemisphere   \n",
              "3                    4     Canada  North America  Northern Hemisphere   \n",
              "4                    5   Thailand           Asia  Northern Hemisphere   \n",
              "\n",
              "   Heart Attack Risk  \n",
              "0                  0  \n",
              "1                  0  \n",
              "2                  0  \n",
              "3                  0  \n",
              "4                  0  \n",
              "\n",
              "[5 rows x 26 columns]"
            ]
          },
          "execution_count": 3,
          "metadata": {},
          "output_type": "execute_result"
        }
      ],
      "source": [
        "data.head()"
      ]
    },
    {
      "cell_type": "code",
      "execution_count": null,
      "metadata": {
        "colab": {
          "base_uri": "https://localhost:8080/"
        },
        "id": "sQ0DS0pw5BJM",
        "outputId": "2958e2cc-b404-4f7c-b44c-8ed22559a8e7"
      },
      "outputs": [
        {
          "data": {
            "text/plain": [
              "(8763, 26)"
            ]
          },
          "execution_count": 9,
          "metadata": {},
          "output_type": "execute_result"
        }
      ],
      "source": [
        "data.shape"
      ]
    },
    {
      "cell_type": "code",
      "execution_count": null,
      "metadata": {
        "colab": {
          "base_uri": "https://localhost:8080/"
        },
        "id": "_RA7SFrh5sB7",
        "outputId": "c8587f0b-91d7-48bb-fc1c-29de0c046c9f"
      },
      "outputs": [
        {
          "data": {
            "text/plain": [
              "0"
            ]
          },
          "execution_count": 10,
          "metadata": {},
          "output_type": "execute_result"
        }
      ],
      "source": [
        "data.isnull().sum().sum()"
      ]
    },
    {
      "cell_type": "markdown",
      "metadata": {
        "id": "uQlwxs505-Fd"
      },
      "source": [
        "##Filters"
      ]
    },
    {
      "cell_type": "markdown",
      "metadata": {
        "id": "wy8eAuj-OlTe"
      },
      "source": [
        "Let's begin by applying different filters to the dataset to extract specific information. We will analyze these subjects to gain insights related to heart attack risks."
      ]
    },
    {
      "cell_type": "code",
      "execution_count": null,
      "metadata": {
        "colab": {
          "base_uri": "https://localhost:8080/"
        },
        "id": "3ZbvL9S-OTFE",
        "outputId": "f1c3478d-881a-4e25-e5ae-e76283b3b3b9"
      },
      "outputs": [
        {
          "name": "stdout",
          "output_type": "stream",
          "text": [
            "Proportion of young adults (≤35 years) among all young adults: 0.716077026421854\n",
            "Proportion of young adults (≤35 years) with high cholesterol among all people: 0.18247175624786033\n"
          ]
        }
      ],
      "source": [
        "# Young Adults with High Cholesterol\n",
        "young_high_cholesterol = data[(data['Age'] <= 35) & (data['Cholesterol'] > 200)]\n",
        "young = data[(data['Age'] <= 35)]\n",
        "\n",
        "print(\"Proportion of young adults (≤35 years) with high cholesterol among all young adults:\", len(young_high_cholesterol)/len(young))\n",
        "print(\"Proportion of young adults (≤35 years) with high cholesterol among all people:\", len(young_high_cholesterol)/len(data))"
      ]
    },
    {
      "cell_type": "markdown",
      "metadata": {
        "id": "mT39fFyn4rrJ"
      },
      "source": [
        "This filter allows us to focus on young adults (≤35 years) with high cholesterol levels, a notable risk factor for heart disease. Despite their age, these individuals need attention due to their elevated cholesterol, which could predispose them to heart problems later in life. Notably, 71.6% of young adults in the dataset have high cholesterol, and they represent 18.2% of the total population under study. This indicates a significant health concern in this age group.\n",
        "\n"
      ]
    },
    {
      "cell_type": "code",
      "execution_count": null,
      "metadata": {
        "colab": {
          "base_uri": "https://localhost:8080/"
        },
        "id": "yINS0esvPe5Q",
        "outputId": "8db93ac7-9b08-4b89-f5dd-55bc93b58eda"
      },
      "outputs": [
        {
          "name": "stdout",
          "output_type": "stream",
          "text": [
            "Proportion of elderly (≥65 years) with high systolic blood pressure among all elderly: 0.44642857142857145\n",
            "Proportion of elderly (≥65 years) with high systolic blood pressure among all people: 0.1569097341093233\n"
          ]
        }
      ],
      "source": [
        "# Elderly with High Blood Pressure\n",
        "elderly_high_bp = data[(data['Age'] >= 65) & (data['Blood Pressure'].apply(lambda x: int(x.split('/')[0]) > 140))]\n",
        "elderly = data[(data['Age'] >= 65)]\n",
        "\n",
        "print(\"Proportion of elderly (≥65 years) with high systolic blood pressure among all elderly:\", len(elderly_high_bp)/len(elderly))\n",
        "print(\"Proportion of elderly (≥65 years) with high systolic blood pressure among all people:\", len(elderly_high_bp)/len(data))"
      ]
    },
    {
      "cell_type": "markdown",
      "metadata": {
        "id": "pjGoYE7Z7wbz"
      },
      "source": [
        "High systolic blood pressure is prevalent among the elderly (≥65 years), with 44.6% of elderly individuals in this category exhibiting high blood pressure. This group constitutes 15.7% of the entire dataset. Since high blood pressure is a common precursor to heart attacks, identifying and managing this condition in elderly individuals is crucial. This filter helps prioritize those who may need immediate medical intervention to mitigate heart attack risks."
      ]
    },
    {
      "cell_type": "code",
      "execution_count": null,
      "metadata": {
        "colab": {
          "base_uri": "https://localhost:8080/"
        },
        "id": "EglUNvxH6doR",
        "outputId": "c2f5f3a4-cbfa-4c7c-c0a9-b8176ca8a723"
      },
      "outputs": [
        {
          "name": "stdout",
          "output_type": "stream",
          "text": [
            "Proportion of smokers with family history of heart problems among all smokers: 0.49497391525639395\n",
            "Proportion of smokers with family history of heart problems among all people: 0.44391190231655825\n"
          ]
        }
      ],
      "source": [
        "# Smokers with Family History of Heart Problems\n",
        "smokers_family_history = data[(data['Smoking'] == 1) & (data['Family History'] == 1)]\n",
        "smokers = data[(data['Smoking'] == 1)]\n",
        "\n",
        "print(\"Proportion of smokers with family history of heart problems among all smokers:\", len(smokers_family_history)/len(smokers))\n",
        "print(\"Proportion of smokers with family history of heart problems among all people:\", len(smokers_family_history)/len(data))"
      ]
    },
    {
      "cell_type": "markdown",
      "metadata": {
        "id": "1zXQl2CT8Wij"
      },
      "source": [
        "This subset combines two significant risk factors for heart disease: smoking and a family history of heart problems. Nearly half (49.5%) of smokers in the dataset have a family history of heart disease, and this group represents 44.4% of the total population. These individuals may require targeted awareness and prevention programs, as their combined risk factors significantly increase their likelihood of heart attacks."
      ]
    },
    {
      "cell_type": "code",
      "execution_count": null,
      "metadata": {
        "colab": {
          "base_uri": "https://localhost:8080/"
        },
        "id": "O0KHZxoR8V2Y",
        "outputId": "b89d5f08-017b-4f27-adec-19ffa93bb55f"
      },
      "outputs": [
        {
          "name": "stdout",
          "output_type": "stream",
          "text": [
            "Proportion of obese individuals with sedentary lifestyle among all obese people: 0.3320436959490214\n",
            "Proportion of obese individuals with sedentary lifestyle among all people: 0.16649549241127468\n"
          ]
        }
      ],
      "source": [
        "# Obese Individuals with Sedentary Lifestyle\n",
        "obese_sedentary = data[(data['Obesity'] == 1) & (data['Sedentary Hours Per Day'] > 8)]\n",
        "obese = data[(data['Obesity'] == 1)]\n",
        "\n",
        "print(\"Proportion of obese individuals with sedentary lifestyle among all obese people:\", len(obese_sedentary)/len(obese))\n",
        "print(\"Proportion of obese individuals with sedentary lifestyle among all people:\", len(obese_sedentary)/len(data))"
      ]
    },
    {
      "cell_type": "markdown",
      "metadata": {
        "id": "1dH1E24P89f5"
      },
      "source": [
        "Obesity paired with a sedentary lifestyle is a potent combination that heightens the risk of heart disease. About 33.2% of obese individuals in the dataset lead a sedentary lifestyle, and they account for 16.7% of the entire population. This emphasizes the need for lifestyle intervention programs aimed at reducing sedentary behavior and promoting physical activity among obese individuals to lower their heart disease risk."
      ]
    },
    {
      "cell_type": "code",
      "execution_count": null,
      "metadata": {
        "colab": {
          "base_uri": "https://localhost:8080/"
        },
        "id": "0zX3Lj8D86SX",
        "outputId": "b6913910-482f-4a66-af93-c65c9854586f"
      },
      "outputs": [
        {
          "name": "stdout",
          "output_type": "stream",
          "text": [
            "Proportion of high-income individuals with unhealthy diets: 0.3297172912557528\n",
            "Proportion of high-income individuals with unhealthy diets: 0.11445851877211001\n"
          ]
        }
      ],
      "source": [
        "# High-income Individuals with Unhealthy Diets\n",
        "high_income_unhealthy_diet = data[(data['Income'] > 200000) & (data['Diet'] == 'Unhealthy')]\n",
        "high_income = data[(data['Income'] > 200000)]\n",
        "\n",
        "\n",
        "print(\"Proportion of high-income individuals with unhealthy diets:\", len(high_income_unhealthy_diet)/len(high_income))\n",
        "print(\"Proportion of high-income individuals with unhealthy diets:\", len(high_income_unhealthy_diet)/len(data))"
      ]
    },
    {
      "cell_type": "markdown",
      "metadata": {
        "id": "JE7d0OQf9jmX"
      },
      "source": [
        "Interestingly, unhealthy eating habits are prevalent even among high-income individuals. Approximately 32.9% of individuals earning over $200,000 have unhealthy diets, making up 11.5% of the total dataset. This finding underscores the need for dietary interventions across all economic segments, highlighting that wealth does not necessarily equate to healthier eating habits. Addressing this issue could help reduce heart disease risks in high-income groups."
      ]
    },
    {
      "cell_type": "markdown",
      "metadata": {
        "id": "BhDAyfbE_XYb"
      },
      "source": [
        "##Sortings"
      ]
    },
    {
      "cell_type": "markdown",
      "metadata": {
        "id": "owYGaHTU_j77"
      },
      "source": [
        "Now let's move on to sorting the data, which will also reveal some insights (perhaps something will be useful for a future model)"
      ]
    },
    {
      "cell_type": "code",
      "execution_count": null,
      "metadata": {
        "colab": {
          "base_uri": "https://localhost:8080/",
          "height": 381
        },
        "id": "3qqe0GTq9XbR",
        "outputId": "96a2c8ea-1396-4677-c049-b72ae15c18c5"
      },
      "outputs": [
        {
          "data": {
            "application/vnd.google.colaboratory.intrinsic+json": {
              "type": "dataframe",
              "variable_name": "sorted_by_age"
            },
            "text/html": [
              "\n",
              "  <div id=\"df-738706fd-925f-469d-a9a8-f27eb4d9d6e2\" class=\"colab-df-container\">\n",
              "    <div>\n",
              "<style scoped>\n",
              "    .dataframe tbody tr th:only-of-type {\n",
              "        vertical-align: middle;\n",
              "    }\n",
              "\n",
              "    .dataframe tbody tr th {\n",
              "        vertical-align: top;\n",
              "    }\n",
              "\n",
              "    .dataframe thead th {\n",
              "        text-align: right;\n",
              "    }\n",
              "</style>\n",
              "<table border=\"1\" class=\"dataframe\">\n",
              "  <thead>\n",
              "    <tr style=\"text-align: right;\">\n",
              "      <th></th>\n",
              "      <th>Patient ID</th>\n",
              "      <th>Age</th>\n",
              "      <th>Sex</th>\n",
              "      <th>Cholesterol</th>\n",
              "      <th>Blood Pressure</th>\n",
              "      <th>Heart Rate</th>\n",
              "      <th>Diabetes</th>\n",
              "      <th>Family History</th>\n",
              "      <th>Smoking</th>\n",
              "      <th>Obesity</th>\n",
              "      <th>...</th>\n",
              "      <th>Sedentary Hours Per Day</th>\n",
              "      <th>Income</th>\n",
              "      <th>BMI</th>\n",
              "      <th>Triglycerides</th>\n",
              "      <th>Physical Activity Days Per Week</th>\n",
              "      <th>Sleep Hours Per Day</th>\n",
              "      <th>Country</th>\n",
              "      <th>Continent</th>\n",
              "      <th>Hemisphere</th>\n",
              "      <th>Heart Attack Risk</th>\n",
              "    </tr>\n",
              "  </thead>\n",
              "  <tbody>\n",
              "    <tr>\n",
              "      <th>5122</th>\n",
              "      <td>HMW6317</td>\n",
              "      <td>90</td>\n",
              "      <td>Male</td>\n",
              "      <td>214</td>\n",
              "      <td>128/67</td>\n",
              "      <td>103</td>\n",
              "      <td>1</td>\n",
              "      <td>1</td>\n",
              "      <td>1</td>\n",
              "      <td>1</td>\n",
              "      <td>...</td>\n",
              "      <td>3.576534</td>\n",
              "      <td>253533</td>\n",
              "      <td>24.005426</td>\n",
              "      <td>437</td>\n",
              "      <td>5</td>\n",
              "      <td>4</td>\n",
              "      <td>Japan</td>\n",
              "      <td>Asia</td>\n",
              "      <td>Northern Hemisphere</td>\n",
              "      <td>1</td>\n",
              "    </tr>\n",
              "    <tr>\n",
              "      <th>2313</th>\n",
              "      <td>TMJ8134</td>\n",
              "      <td>90</td>\n",
              "      <td>Male</td>\n",
              "      <td>180</td>\n",
              "      <td>121/103</td>\n",
              "      <td>86</td>\n",
              "      <td>0</td>\n",
              "      <td>0</td>\n",
              "      <td>1</td>\n",
              "      <td>0</td>\n",
              "      <td>...</td>\n",
              "      <td>8.950556</td>\n",
              "      <td>120698</td>\n",
              "      <td>34.417035</td>\n",
              "      <td>620</td>\n",
              "      <td>0</td>\n",
              "      <td>9</td>\n",
              "      <td>South Africa</td>\n",
              "      <td>Africa</td>\n",
              "      <td>Southern Hemisphere</td>\n",
              "      <td>0</td>\n",
              "    </tr>\n",
              "    <tr>\n",
              "      <th>3688</th>\n",
              "      <td>XRN3421</td>\n",
              "      <td>90</td>\n",
              "      <td>Male</td>\n",
              "      <td>229</td>\n",
              "      <td>124/110</td>\n",
              "      <td>92</td>\n",
              "      <td>1</td>\n",
              "      <td>0</td>\n",
              "      <td>1</td>\n",
              "      <td>1</td>\n",
              "      <td>...</td>\n",
              "      <td>7.598515</td>\n",
              "      <td>89461</td>\n",
              "      <td>32.922713</td>\n",
              "      <td>401</td>\n",
              "      <td>1</td>\n",
              "      <td>5</td>\n",
              "      <td>South Korea</td>\n",
              "      <td>Asia</td>\n",
              "      <td>Northern Hemisphere</td>\n",
              "      <td>1</td>\n",
              "    </tr>\n",
              "    <tr>\n",
              "      <th>7564</th>\n",
              "      <td>DJX9738</td>\n",
              "      <td>90</td>\n",
              "      <td>Male</td>\n",
              "      <td>368</td>\n",
              "      <td>176/85</td>\n",
              "      <td>57</td>\n",
              "      <td>0</td>\n",
              "      <td>1</td>\n",
              "      <td>1</td>\n",
              "      <td>0</td>\n",
              "      <td>...</td>\n",
              "      <td>0.558232</td>\n",
              "      <td>131918</td>\n",
              "      <td>38.032912</td>\n",
              "      <td>758</td>\n",
              "      <td>1</td>\n",
              "      <td>9</td>\n",
              "      <td>Nigeria</td>\n",
              "      <td>Africa</td>\n",
              "      <td>Northern Hemisphere</td>\n",
              "      <td>0</td>\n",
              "    </tr>\n",
              "    <tr>\n",
              "      <th>6931</th>\n",
              "      <td>ABR4955</td>\n",
              "      <td>90</td>\n",
              "      <td>Male</td>\n",
              "      <td>146</td>\n",
              "      <td>99/78</td>\n",
              "      <td>72</td>\n",
              "      <td>0</td>\n",
              "      <td>1</td>\n",
              "      <td>1</td>\n",
              "      <td>0</td>\n",
              "      <td>...</td>\n",
              "      <td>10.680788</td>\n",
              "      <td>224923</td>\n",
              "      <td>38.668300</td>\n",
              "      <td>474</td>\n",
              "      <td>4</td>\n",
              "      <td>6</td>\n",
              "      <td>Spain</td>\n",
              "      <td>Europe</td>\n",
              "      <td>Southern Hemisphere</td>\n",
              "      <td>0</td>\n",
              "    </tr>\n",
              "  </tbody>\n",
              "</table>\n",
              "<p>5 rows × 26 columns</p>\n",
              "</div>\n",
              "    <div class=\"colab-df-buttons\">\n",
              "\n",
              "  <div class=\"colab-df-container\">\n",
              "    <button class=\"colab-df-convert\" onclick=\"convertToInteractive('df-738706fd-925f-469d-a9a8-f27eb4d9d6e2')\"\n",
              "            title=\"Convert this dataframe to an interactive table.\"\n",
              "            style=\"display:none;\">\n",
              "\n",
              "  <svg xmlns=\"http://www.w3.org/2000/svg\" height=\"24px\" viewBox=\"0 -960 960 960\">\n",
              "    <path d=\"M120-120v-720h720v720H120Zm60-500h600v-160H180v160Zm220 220h160v-160H400v160Zm0 220h160v-160H400v160ZM180-400h160v-160H180v160Zm440 0h160v-160H620v160ZM180-180h160v-160H180v160Zm440 0h160v-160H620v160Z\"/>\n",
              "  </svg>\n",
              "    </button>\n",
              "\n",
              "  <style>\n",
              "    .colab-df-container {\n",
              "      display:flex;\n",
              "      gap: 12px;\n",
              "    }\n",
              "\n",
              "    .colab-df-convert {\n",
              "      background-color: #E8F0FE;\n",
              "      border: none;\n",
              "      border-radius: 50%;\n",
              "      cursor: pointer;\n",
              "      display: none;\n",
              "      fill: #1967D2;\n",
              "      height: 32px;\n",
              "      padding: 0 0 0 0;\n",
              "      width: 32px;\n",
              "    }\n",
              "\n",
              "    .colab-df-convert:hover {\n",
              "      background-color: #E2EBFA;\n",
              "      box-shadow: 0px 1px 2px rgba(60, 64, 67, 0.3), 0px 1px 3px 1px rgba(60, 64, 67, 0.15);\n",
              "      fill: #174EA6;\n",
              "    }\n",
              "\n",
              "    .colab-df-buttons div {\n",
              "      margin-bottom: 4px;\n",
              "    }\n",
              "\n",
              "    [theme=dark] .colab-df-convert {\n",
              "      background-color: #3B4455;\n",
              "      fill: #D2E3FC;\n",
              "    }\n",
              "\n",
              "    [theme=dark] .colab-df-convert:hover {\n",
              "      background-color: #434B5C;\n",
              "      box-shadow: 0px 1px 3px 1px rgba(0, 0, 0, 0.15);\n",
              "      filter: drop-shadow(0px 1px 2px rgba(0, 0, 0, 0.3));\n",
              "      fill: #FFFFFF;\n",
              "    }\n",
              "  </style>\n",
              "\n",
              "    <script>\n",
              "      const buttonEl =\n",
              "        document.querySelector('#df-738706fd-925f-469d-a9a8-f27eb4d9d6e2 button.colab-df-convert');\n",
              "      buttonEl.style.display =\n",
              "        google.colab.kernel.accessAllowed ? 'block' : 'none';\n",
              "\n",
              "      async function convertToInteractive(key) {\n",
              "        const element = document.querySelector('#df-738706fd-925f-469d-a9a8-f27eb4d9d6e2');\n",
              "        const dataTable =\n",
              "          await google.colab.kernel.invokeFunction('convertToInteractive',\n",
              "                                                    [key], {});\n",
              "        if (!dataTable) return;\n",
              "\n",
              "        const docLinkHtml = 'Like what you see? Visit the ' +\n",
              "          '<a target=\"_blank\" href=https://colab.research.google.com/notebooks/data_table.ipynb>data table notebook</a>'\n",
              "          + ' to learn more about interactive tables.';\n",
              "        element.innerHTML = '';\n",
              "        dataTable['output_type'] = 'display_data';\n",
              "        await google.colab.output.renderOutput(dataTable, element);\n",
              "        const docLink = document.createElement('div');\n",
              "        docLink.innerHTML = docLinkHtml;\n",
              "        element.appendChild(docLink);\n",
              "      }\n",
              "    </script>\n",
              "  </div>\n",
              "\n",
              "\n",
              "<div id=\"df-826305fa-a5e7-40c5-a100-bd6d9902b052\">\n",
              "  <button class=\"colab-df-quickchart\" onclick=\"quickchart('df-826305fa-a5e7-40c5-a100-bd6d9902b052')\"\n",
              "            title=\"Suggest charts\"\n",
              "            style=\"display:none;\">\n",
              "\n",
              "<svg xmlns=\"http://www.w3.org/2000/svg\" height=\"24px\"viewBox=\"0 0 24 24\"\n",
              "     width=\"24px\">\n",
              "    <g>\n",
              "        <path d=\"M19 3H5c-1.1 0-2 .9-2 2v14c0 1.1.9 2 2 2h14c1.1 0 2-.9 2-2V5c0-1.1-.9-2-2-2zM9 17H7v-7h2v7zm4 0h-2V7h2v10zm4 0h-2v-4h2v4z\"/>\n",
              "    </g>\n",
              "</svg>\n",
              "  </button>\n",
              "\n",
              "<style>\n",
              "  .colab-df-quickchart {\n",
              "      --bg-color: #E8F0FE;\n",
              "      --fill-color: #1967D2;\n",
              "      --hover-bg-color: #E2EBFA;\n",
              "      --hover-fill-color: #174EA6;\n",
              "      --disabled-fill-color: #AAA;\n",
              "      --disabled-bg-color: #DDD;\n",
              "  }\n",
              "\n",
              "  [theme=dark] .colab-df-quickchart {\n",
              "      --bg-color: #3B4455;\n",
              "      --fill-color: #D2E3FC;\n",
              "      --hover-bg-color: #434B5C;\n",
              "      --hover-fill-color: #FFFFFF;\n",
              "      --disabled-bg-color: #3B4455;\n",
              "      --disabled-fill-color: #666;\n",
              "  }\n",
              "\n",
              "  .colab-df-quickchart {\n",
              "    background-color: var(--bg-color);\n",
              "    border: none;\n",
              "    border-radius: 50%;\n",
              "    cursor: pointer;\n",
              "    display: none;\n",
              "    fill: var(--fill-color);\n",
              "    height: 32px;\n",
              "    padding: 0;\n",
              "    width: 32px;\n",
              "  }\n",
              "\n",
              "  .colab-df-quickchart:hover {\n",
              "    background-color: var(--hover-bg-color);\n",
              "    box-shadow: 0 1px 2px rgba(60, 64, 67, 0.3), 0 1px 3px 1px rgba(60, 64, 67, 0.15);\n",
              "    fill: var(--button-hover-fill-color);\n",
              "  }\n",
              "\n",
              "  .colab-df-quickchart-complete:disabled,\n",
              "  .colab-df-quickchart-complete:disabled:hover {\n",
              "    background-color: var(--disabled-bg-color);\n",
              "    fill: var(--disabled-fill-color);\n",
              "    box-shadow: none;\n",
              "  }\n",
              "\n",
              "  .colab-df-spinner {\n",
              "    border: 2px solid var(--fill-color);\n",
              "    border-color: transparent;\n",
              "    border-bottom-color: var(--fill-color);\n",
              "    animation:\n",
              "      spin 1s steps(1) infinite;\n",
              "  }\n",
              "\n",
              "  @keyframes spin {\n",
              "    0% {\n",
              "      border-color: transparent;\n",
              "      border-bottom-color: var(--fill-color);\n",
              "      border-left-color: var(--fill-color);\n",
              "    }\n",
              "    20% {\n",
              "      border-color: transparent;\n",
              "      border-left-color: var(--fill-color);\n",
              "      border-top-color: var(--fill-color);\n",
              "    }\n",
              "    30% {\n",
              "      border-color: transparent;\n",
              "      border-left-color: var(--fill-color);\n",
              "      border-top-color: var(--fill-color);\n",
              "      border-right-color: var(--fill-color);\n",
              "    }\n",
              "    40% {\n",
              "      border-color: transparent;\n",
              "      border-right-color: var(--fill-color);\n",
              "      border-top-color: var(--fill-color);\n",
              "    }\n",
              "    60% {\n",
              "      border-color: transparent;\n",
              "      border-right-color: var(--fill-color);\n",
              "    }\n",
              "    80% {\n",
              "      border-color: transparent;\n",
              "      border-right-color: var(--fill-color);\n",
              "      border-bottom-color: var(--fill-color);\n",
              "    }\n",
              "    90% {\n",
              "      border-color: transparent;\n",
              "      border-bottom-color: var(--fill-color);\n",
              "    }\n",
              "  }\n",
              "</style>\n",
              "\n",
              "  <script>\n",
              "    async function quickchart(key) {\n",
              "      const quickchartButtonEl =\n",
              "        document.querySelector('#' + key + ' button');\n",
              "      quickchartButtonEl.disabled = true;  // To prevent multiple clicks.\n",
              "      quickchartButtonEl.classList.add('colab-df-spinner');\n",
              "      try {\n",
              "        const charts = await google.colab.kernel.invokeFunction(\n",
              "            'suggestCharts', [key], {});\n",
              "      } catch (error) {\n",
              "        console.error('Error during call to suggestCharts:', error);\n",
              "      }\n",
              "      quickchartButtonEl.classList.remove('colab-df-spinner');\n",
              "      quickchartButtonEl.classList.add('colab-df-quickchart-complete');\n",
              "    }\n",
              "    (() => {\n",
              "      let quickchartButtonEl =\n",
              "        document.querySelector('#df-826305fa-a5e7-40c5-a100-bd6d9902b052 button');\n",
              "      quickchartButtonEl.style.display =\n",
              "        google.colab.kernel.accessAllowed ? 'block' : 'none';\n",
              "    })();\n",
              "  </script>\n",
              "</div>\n",
              "    </div>\n",
              "  </div>\n"
            ],
            "text/plain": [
              "     Patient ID  Age   Sex  Cholesterol Blood Pressure  Heart Rate  Diabetes  \\\n",
              "5122    HMW6317   90  Male          214         128/67         103         1   \n",
              "2313    TMJ8134   90  Male          180        121/103          86         0   \n",
              "3688    XRN3421   90  Male          229        124/110          92         1   \n",
              "7564    DJX9738   90  Male          368         176/85          57         0   \n",
              "6931    ABR4955   90  Male          146          99/78          72         0   \n",
              "\n",
              "      Family History  Smoking  Obesity  ...  Sedentary Hours Per Day  Income  \\\n",
              "5122               1        1        1  ...                 3.576534  253533   \n",
              "2313               0        1        0  ...                 8.950556  120698   \n",
              "3688               0        1        1  ...                 7.598515   89461   \n",
              "7564               1        1        0  ...                 0.558232  131918   \n",
              "6931               1        1        0  ...                10.680788  224923   \n",
              "\n",
              "            BMI  Triglycerides  Physical Activity Days Per Week  \\\n",
              "5122  24.005426            437                                5   \n",
              "2313  34.417035            620                                0   \n",
              "3688  32.922713            401                                1   \n",
              "7564  38.032912            758                                1   \n",
              "6931  38.668300            474                                4   \n",
              "\n",
              "      Sleep Hours Per Day       Country  Continent           Hemisphere  \\\n",
              "5122                    4         Japan       Asia  Northern Hemisphere   \n",
              "2313                    9  South Africa     Africa  Southern Hemisphere   \n",
              "3688                    5   South Korea       Asia  Northern Hemisphere   \n",
              "7564                    9       Nigeria     Africa  Northern Hemisphere   \n",
              "6931                    6         Spain     Europe  Southern Hemisphere   \n",
              "\n",
              "      Heart Attack Risk  \n",
              "5122                  1  \n",
              "2313                  0  \n",
              "3688                  1  \n",
              "7564                  0  \n",
              "6931                  0  \n",
              "\n",
              "[5 rows x 26 columns]"
            ]
          },
          "execution_count": 28,
          "metadata": {},
          "output_type": "execute_result"
        }
      ],
      "source": [
        "# Sort by Age in Descending Order\n",
        "sorted_by_age = data.sort_values(by='Age', ascending=False)\n",
        "sorted_by_age.head()"
      ]
    },
    {
      "cell_type": "markdown",
      "metadata": {
        "id": "QxP7sjE4BDS7"
      },
      "source": [
        "Sorting the data by age in descending order allows us to observe the oldest patients in the dataset. This sorting reveals that the oldest patients, aged 90, have varying health metrics and come from different continents. Analyzing these patients could provide insights into longevity and its correlation with other health factors."
      ]
    },
    {
      "cell_type": "code",
      "execution_count": null,
      "metadata": {
        "colab": {
          "base_uri": "https://localhost:8080/",
          "height": 381
        },
        "id": "c3_qR48QALTL",
        "outputId": "532c37ee-f0e5-40ed-d2c2-b505635726ae"
      },
      "outputs": [
        {
          "data": {
            "application/vnd.google.colaboratory.intrinsic+json": {
              "type": "dataframe",
              "variable_name": "sorted_by_cholesterol_bp"
            },
            "text/html": [
              "\n",
              "  <div id=\"df-065a9e9a-c56d-485b-858f-5a1e2b4f520e\" class=\"colab-df-container\">\n",
              "    <div>\n",
              "<style scoped>\n",
              "    .dataframe tbody tr th:only-of-type {\n",
              "        vertical-align: middle;\n",
              "    }\n",
              "\n",
              "    .dataframe tbody tr th {\n",
              "        vertical-align: top;\n",
              "    }\n",
              "\n",
              "    .dataframe thead th {\n",
              "        text-align: right;\n",
              "    }\n",
              "</style>\n",
              "<table border=\"1\" class=\"dataframe\">\n",
              "  <thead>\n",
              "    <tr style=\"text-align: right;\">\n",
              "      <th></th>\n",
              "      <th>Patient ID</th>\n",
              "      <th>Age</th>\n",
              "      <th>Sex</th>\n",
              "      <th>Cholesterol</th>\n",
              "      <th>Blood Pressure</th>\n",
              "      <th>Heart Rate</th>\n",
              "      <th>Diabetes</th>\n",
              "      <th>Family History</th>\n",
              "      <th>Smoking</th>\n",
              "      <th>Obesity</th>\n",
              "      <th>...</th>\n",
              "      <th>Sedentary Hours Per Day</th>\n",
              "      <th>Income</th>\n",
              "      <th>BMI</th>\n",
              "      <th>Triglycerides</th>\n",
              "      <th>Physical Activity Days Per Week</th>\n",
              "      <th>Sleep Hours Per Day</th>\n",
              "      <th>Country</th>\n",
              "      <th>Continent</th>\n",
              "      <th>Hemisphere</th>\n",
              "      <th>Heart Attack Risk</th>\n",
              "    </tr>\n",
              "  </thead>\n",
              "  <tbody>\n",
              "    <tr>\n",
              "      <th>8540</th>\n",
              "      <td>ADF6733</td>\n",
              "      <td>69</td>\n",
              "      <td>Male</td>\n",
              "      <td>400</td>\n",
              "      <td>99/92</td>\n",
              "      <td>103</td>\n",
              "      <td>1</td>\n",
              "      <td>1</td>\n",
              "      <td>1</td>\n",
              "      <td>1</td>\n",
              "      <td>...</td>\n",
              "      <td>9.650413</td>\n",
              "      <td>188209</td>\n",
              "      <td>32.584632</td>\n",
              "      <td>156</td>\n",
              "      <td>4</td>\n",
              "      <td>9</td>\n",
              "      <td>Germany</td>\n",
              "      <td>Europe</td>\n",
              "      <td>Northern Hemisphere</td>\n",
              "      <td>0</td>\n",
              "    </tr>\n",
              "    <tr>\n",
              "      <th>1027</th>\n",
              "      <td>GEG2092</td>\n",
              "      <td>38</td>\n",
              "      <td>Male</td>\n",
              "      <td>400</td>\n",
              "      <td>97/78</td>\n",
              "      <td>41</td>\n",
              "      <td>1</td>\n",
              "      <td>0</td>\n",
              "      <td>1</td>\n",
              "      <td>1</td>\n",
              "      <td>...</td>\n",
              "      <td>3.390468</td>\n",
              "      <td>42790</td>\n",
              "      <td>31.778070</td>\n",
              "      <td>250</td>\n",
              "      <td>0</td>\n",
              "      <td>8</td>\n",
              "      <td>Japan</td>\n",
              "      <td>Asia</td>\n",
              "      <td>Northern Hemisphere</td>\n",
              "      <td>1</td>\n",
              "    </tr>\n",
              "    <tr>\n",
              "      <th>7165</th>\n",
              "      <td>AJN1863</td>\n",
              "      <td>85</td>\n",
              "      <td>Male</td>\n",
              "      <td>400</td>\n",
              "      <td>92/108</td>\n",
              "      <td>52</td>\n",
              "      <td>0</td>\n",
              "      <td>0</td>\n",
              "      <td>1</td>\n",
              "      <td>0</td>\n",
              "      <td>...</td>\n",
              "      <td>5.797627</td>\n",
              "      <td>239915</td>\n",
              "      <td>35.432924</td>\n",
              "      <td>478</td>\n",
              "      <td>6</td>\n",
              "      <td>10</td>\n",
              "      <td>India</td>\n",
              "      <td>Asia</td>\n",
              "      <td>Northern Hemisphere</td>\n",
              "      <td>0</td>\n",
              "    </tr>\n",
              "    <tr>\n",
              "      <th>4596</th>\n",
              "      <td>TJM4614</td>\n",
              "      <td>90</td>\n",
              "      <td>Male</td>\n",
              "      <td>400</td>\n",
              "      <td>179/83</td>\n",
              "      <td>79</td>\n",
              "      <td>1</td>\n",
              "      <td>1</td>\n",
              "      <td>1</td>\n",
              "      <td>0</td>\n",
              "      <td>...</td>\n",
              "      <td>0.157097</td>\n",
              "      <td>186999</td>\n",
              "      <td>31.352282</td>\n",
              "      <td>202</td>\n",
              "      <td>0</td>\n",
              "      <td>5</td>\n",
              "      <td>India</td>\n",
              "      <td>Asia</td>\n",
              "      <td>Northern Hemisphere</td>\n",
              "      <td>1</td>\n",
              "    </tr>\n",
              "    <tr>\n",
              "      <th>2365</th>\n",
              "      <td>KDZ8705</td>\n",
              "      <td>59</td>\n",
              "      <td>Female</td>\n",
              "      <td>400</td>\n",
              "      <td>175/84</td>\n",
              "      <td>81</td>\n",
              "      <td>1</td>\n",
              "      <td>1</td>\n",
              "      <td>1</td>\n",
              "      <td>0</td>\n",
              "      <td>...</td>\n",
              "      <td>9.155260</td>\n",
              "      <td>224163</td>\n",
              "      <td>33.139828</td>\n",
              "      <td>363</td>\n",
              "      <td>3</td>\n",
              "      <td>6</td>\n",
              "      <td>Italy</td>\n",
              "      <td>Europe</td>\n",
              "      <td>Southern Hemisphere</td>\n",
              "      <td>1</td>\n",
              "    </tr>\n",
              "  </tbody>\n",
              "</table>\n",
              "<p>5 rows × 26 columns</p>\n",
              "</div>\n",
              "    <div class=\"colab-df-buttons\">\n",
              "\n",
              "  <div class=\"colab-df-container\">\n",
              "    <button class=\"colab-df-convert\" onclick=\"convertToInteractive('df-065a9e9a-c56d-485b-858f-5a1e2b4f520e')\"\n",
              "            title=\"Convert this dataframe to an interactive table.\"\n",
              "            style=\"display:none;\">\n",
              "\n",
              "  <svg xmlns=\"http://www.w3.org/2000/svg\" height=\"24px\" viewBox=\"0 -960 960 960\">\n",
              "    <path d=\"M120-120v-720h720v720H120Zm60-500h600v-160H180v160Zm220 220h160v-160H400v160Zm0 220h160v-160H400v160ZM180-400h160v-160H180v160Zm440 0h160v-160H620v160ZM180-180h160v-160H180v160Zm440 0h160v-160H620v160Z\"/>\n",
              "  </svg>\n",
              "    </button>\n",
              "\n",
              "  <style>\n",
              "    .colab-df-container {\n",
              "      display:flex;\n",
              "      gap: 12px;\n",
              "    }\n",
              "\n",
              "    .colab-df-convert {\n",
              "      background-color: #E8F0FE;\n",
              "      border: none;\n",
              "      border-radius: 50%;\n",
              "      cursor: pointer;\n",
              "      display: none;\n",
              "      fill: #1967D2;\n",
              "      height: 32px;\n",
              "      padding: 0 0 0 0;\n",
              "      width: 32px;\n",
              "    }\n",
              "\n",
              "    .colab-df-convert:hover {\n",
              "      background-color: #E2EBFA;\n",
              "      box-shadow: 0px 1px 2px rgba(60, 64, 67, 0.3), 0px 1px 3px 1px rgba(60, 64, 67, 0.15);\n",
              "      fill: #174EA6;\n",
              "    }\n",
              "\n",
              "    .colab-df-buttons div {\n",
              "      margin-bottom: 4px;\n",
              "    }\n",
              "\n",
              "    [theme=dark] .colab-df-convert {\n",
              "      background-color: #3B4455;\n",
              "      fill: #D2E3FC;\n",
              "    }\n",
              "\n",
              "    [theme=dark] .colab-df-convert:hover {\n",
              "      background-color: #434B5C;\n",
              "      box-shadow: 0px 1px 3px 1px rgba(0, 0, 0, 0.15);\n",
              "      filter: drop-shadow(0px 1px 2px rgba(0, 0, 0, 0.3));\n",
              "      fill: #FFFFFF;\n",
              "    }\n",
              "  </style>\n",
              "\n",
              "    <script>\n",
              "      const buttonEl =\n",
              "        document.querySelector('#df-065a9e9a-c56d-485b-858f-5a1e2b4f520e button.colab-df-convert');\n",
              "      buttonEl.style.display =\n",
              "        google.colab.kernel.accessAllowed ? 'block' : 'none';\n",
              "\n",
              "      async function convertToInteractive(key) {\n",
              "        const element = document.querySelector('#df-065a9e9a-c56d-485b-858f-5a1e2b4f520e');\n",
              "        const dataTable =\n",
              "          await google.colab.kernel.invokeFunction('convertToInteractive',\n",
              "                                                    [key], {});\n",
              "        if (!dataTable) return;\n",
              "\n",
              "        const docLinkHtml = 'Like what you see? Visit the ' +\n",
              "          '<a target=\"_blank\" href=https://colab.research.google.com/notebooks/data_table.ipynb>data table notebook</a>'\n",
              "          + ' to learn more about interactive tables.';\n",
              "        element.innerHTML = '';\n",
              "        dataTable['output_type'] = 'display_data';\n",
              "        await google.colab.output.renderOutput(dataTable, element);\n",
              "        const docLink = document.createElement('div');\n",
              "        docLink.innerHTML = docLinkHtml;\n",
              "        element.appendChild(docLink);\n",
              "      }\n",
              "    </script>\n",
              "  </div>\n",
              "\n",
              "\n",
              "<div id=\"df-403f674e-4775-4121-91de-44d0e895b27c\">\n",
              "  <button class=\"colab-df-quickchart\" onclick=\"quickchart('df-403f674e-4775-4121-91de-44d0e895b27c')\"\n",
              "            title=\"Suggest charts\"\n",
              "            style=\"display:none;\">\n",
              "\n",
              "<svg xmlns=\"http://www.w3.org/2000/svg\" height=\"24px\"viewBox=\"0 0 24 24\"\n",
              "     width=\"24px\">\n",
              "    <g>\n",
              "        <path d=\"M19 3H5c-1.1 0-2 .9-2 2v14c0 1.1.9 2 2 2h14c1.1 0 2-.9 2-2V5c0-1.1-.9-2-2-2zM9 17H7v-7h2v7zm4 0h-2V7h2v10zm4 0h-2v-4h2v4z\"/>\n",
              "    </g>\n",
              "</svg>\n",
              "  </button>\n",
              "\n",
              "<style>\n",
              "  .colab-df-quickchart {\n",
              "      --bg-color: #E8F0FE;\n",
              "      --fill-color: #1967D2;\n",
              "      --hover-bg-color: #E2EBFA;\n",
              "      --hover-fill-color: #174EA6;\n",
              "      --disabled-fill-color: #AAA;\n",
              "      --disabled-bg-color: #DDD;\n",
              "  }\n",
              "\n",
              "  [theme=dark] .colab-df-quickchart {\n",
              "      --bg-color: #3B4455;\n",
              "      --fill-color: #D2E3FC;\n",
              "      --hover-bg-color: #434B5C;\n",
              "      --hover-fill-color: #FFFFFF;\n",
              "      --disabled-bg-color: #3B4455;\n",
              "      --disabled-fill-color: #666;\n",
              "  }\n",
              "\n",
              "  .colab-df-quickchart {\n",
              "    background-color: var(--bg-color);\n",
              "    border: none;\n",
              "    border-radius: 50%;\n",
              "    cursor: pointer;\n",
              "    display: none;\n",
              "    fill: var(--fill-color);\n",
              "    height: 32px;\n",
              "    padding: 0;\n",
              "    width: 32px;\n",
              "  }\n",
              "\n",
              "  .colab-df-quickchart:hover {\n",
              "    background-color: var(--hover-bg-color);\n",
              "    box-shadow: 0 1px 2px rgba(60, 64, 67, 0.3), 0 1px 3px 1px rgba(60, 64, 67, 0.15);\n",
              "    fill: var(--button-hover-fill-color);\n",
              "  }\n",
              "\n",
              "  .colab-df-quickchart-complete:disabled,\n",
              "  .colab-df-quickchart-complete:disabled:hover {\n",
              "    background-color: var(--disabled-bg-color);\n",
              "    fill: var(--disabled-fill-color);\n",
              "    box-shadow: none;\n",
              "  }\n",
              "\n",
              "  .colab-df-spinner {\n",
              "    border: 2px solid var(--fill-color);\n",
              "    border-color: transparent;\n",
              "    border-bottom-color: var(--fill-color);\n",
              "    animation:\n",
              "      spin 1s steps(1) infinite;\n",
              "  }\n",
              "\n",
              "  @keyframes spin {\n",
              "    0% {\n",
              "      border-color: transparent;\n",
              "      border-bottom-color: var(--fill-color);\n",
              "      border-left-color: var(--fill-color);\n",
              "    }\n",
              "    20% {\n",
              "      border-color: transparent;\n",
              "      border-left-color: var(--fill-color);\n",
              "      border-top-color: var(--fill-color);\n",
              "    }\n",
              "    30% {\n",
              "      border-color: transparent;\n",
              "      border-left-color: var(--fill-color);\n",
              "      border-top-color: var(--fill-color);\n",
              "      border-right-color: var(--fill-color);\n",
              "    }\n",
              "    40% {\n",
              "      border-color: transparent;\n",
              "      border-right-color: var(--fill-color);\n",
              "      border-top-color: var(--fill-color);\n",
              "    }\n",
              "    60% {\n",
              "      border-color: transparent;\n",
              "      border-right-color: var(--fill-color);\n",
              "    }\n",
              "    80% {\n",
              "      border-color: transparent;\n",
              "      border-right-color: var(--fill-color);\n",
              "      border-bottom-color: var(--fill-color);\n",
              "    }\n",
              "    90% {\n",
              "      border-color: transparent;\n",
              "      border-bottom-color: var(--fill-color);\n",
              "    }\n",
              "  }\n",
              "</style>\n",
              "\n",
              "  <script>\n",
              "    async function quickchart(key) {\n",
              "      const quickchartButtonEl =\n",
              "        document.querySelector('#' + key + ' button');\n",
              "      quickchartButtonEl.disabled = true;  // To prevent multiple clicks.\n",
              "      quickchartButtonEl.classList.add('colab-df-spinner');\n",
              "      try {\n",
              "        const charts = await google.colab.kernel.invokeFunction(\n",
              "            'suggestCharts', [key], {});\n",
              "      } catch (error) {\n",
              "        console.error('Error during call to suggestCharts:', error);\n",
              "      }\n",
              "      quickchartButtonEl.classList.remove('colab-df-spinner');\n",
              "      quickchartButtonEl.classList.add('colab-df-quickchart-complete');\n",
              "    }\n",
              "    (() => {\n",
              "      let quickchartButtonEl =\n",
              "        document.querySelector('#df-403f674e-4775-4121-91de-44d0e895b27c button');\n",
              "      quickchartButtonEl.style.display =\n",
              "        google.colab.kernel.accessAllowed ? 'block' : 'none';\n",
              "    })();\n",
              "  </script>\n",
              "</div>\n",
              "    </div>\n",
              "  </div>\n"
            ],
            "text/plain": [
              "     Patient ID  Age     Sex  Cholesterol Blood Pressure  Heart Rate  \\\n",
              "8540    ADF6733   69    Male          400          99/92         103   \n",
              "1027    GEG2092   38    Male          400          97/78          41   \n",
              "7165    AJN1863   85    Male          400         92/108          52   \n",
              "4596    TJM4614   90    Male          400         179/83          79   \n",
              "2365    KDZ8705   59  Female          400         175/84          81   \n",
              "\n",
              "      Diabetes  Family History  Smoking  Obesity  ...  \\\n",
              "8540         1               1        1        1  ...   \n",
              "1027         1               0        1        1  ...   \n",
              "7165         0               0        1        0  ...   \n",
              "4596         1               1        1        0  ...   \n",
              "2365         1               1        1        0  ...   \n",
              "\n",
              "      Sedentary Hours Per Day  Income        BMI  Triglycerides  \\\n",
              "8540                 9.650413  188209  32.584632            156   \n",
              "1027                 3.390468   42790  31.778070            250   \n",
              "7165                 5.797627  239915  35.432924            478   \n",
              "4596                 0.157097  186999  31.352282            202   \n",
              "2365                 9.155260  224163  33.139828            363   \n",
              "\n",
              "      Physical Activity Days Per Week  Sleep Hours Per Day  Country  \\\n",
              "8540                                4                    9  Germany   \n",
              "1027                                0                    8    Japan   \n",
              "7165                                6                   10    India   \n",
              "4596                                0                    5    India   \n",
              "2365                                3                    6    Italy   \n",
              "\n",
              "      Continent           Hemisphere  Heart Attack Risk  \n",
              "8540     Europe  Northern Hemisphere                  0  \n",
              "1027       Asia  Northern Hemisphere                  1  \n",
              "7165       Asia  Northern Hemisphere                  0  \n",
              "4596       Asia  Northern Hemisphere                  1  \n",
              "2365     Europe  Southern Hemisphere                  1  \n",
              "\n",
              "[5 rows x 26 columns]"
            ]
          },
          "execution_count": 29,
          "metadata": {},
          "output_type": "execute_result"
        }
      ],
      "source": [
        "# Sort by Cholesterol and Blood Pressure\n",
        "sorted_by_cholesterol_bp = data.sort_values(by=['Cholesterol', 'Blood Pressure'], ascending=[False, False])\n",
        "sorted_by_cholesterol_bp.head()"
      ]
    },
    {
      "cell_type": "markdown",
      "metadata": {
        "id": "ric0uVA2BCRr"
      },
      "source": [
        "By sorting the data based on cholesterol and blood pressure in descending order, we can identify patients with the highest risk profiles for cardiovascular issues. These patients exhibit extremely high cholesterol levels, often accompanied by high blood pressure. This sorting helps in pinpointing individuals who may require immediate medical attention or targeted interventions."
      ]
    },
    {
      "cell_type": "code",
      "execution_count": null,
      "metadata": {
        "colab": {
          "base_uri": "https://localhost:8080/",
          "height": 381
        },
        "id": "xATQF4zfAbFz",
        "outputId": "e006abfe-a71c-4734-bf8a-d8143ef2f12c"
      },
      "outputs": [
        {
          "data": {
            "application/vnd.google.colaboratory.intrinsic+json": {
              "type": "dataframe",
              "variable_name": "sorted_by_income_risk"
            },
            "text/html": [
              "\n",
              "  <div id=\"df-7c9ea0ab-e4e6-409b-88be-3a5f58769dde\" class=\"colab-df-container\">\n",
              "    <div>\n",
              "<style scoped>\n",
              "    .dataframe tbody tr th:only-of-type {\n",
              "        vertical-align: middle;\n",
              "    }\n",
              "\n",
              "    .dataframe tbody tr th {\n",
              "        vertical-align: top;\n",
              "    }\n",
              "\n",
              "    .dataframe thead th {\n",
              "        text-align: right;\n",
              "    }\n",
              "</style>\n",
              "<table border=\"1\" class=\"dataframe\">\n",
              "  <thead>\n",
              "    <tr style=\"text-align: right;\">\n",
              "      <th></th>\n",
              "      <th>Patient ID</th>\n",
              "      <th>Age</th>\n",
              "      <th>Sex</th>\n",
              "      <th>Cholesterol</th>\n",
              "      <th>Blood Pressure</th>\n",
              "      <th>Heart Rate</th>\n",
              "      <th>Diabetes</th>\n",
              "      <th>Family History</th>\n",
              "      <th>Smoking</th>\n",
              "      <th>Obesity</th>\n",
              "      <th>...</th>\n",
              "      <th>Sedentary Hours Per Day</th>\n",
              "      <th>Income</th>\n",
              "      <th>BMI</th>\n",
              "      <th>Triglycerides</th>\n",
              "      <th>Physical Activity Days Per Week</th>\n",
              "      <th>Sleep Hours Per Day</th>\n",
              "      <th>Country</th>\n",
              "      <th>Continent</th>\n",
              "      <th>Hemisphere</th>\n",
              "      <th>Heart Attack Risk</th>\n",
              "    </tr>\n",
              "  </thead>\n",
              "  <tbody>\n",
              "    <tr>\n",
              "      <th>1309</th>\n",
              "      <td>WQX6573</td>\n",
              "      <td>52</td>\n",
              "      <td>Male</td>\n",
              "      <td>190</td>\n",
              "      <td>95/81</td>\n",
              "      <td>89</td>\n",
              "      <td>1</td>\n",
              "      <td>0</td>\n",
              "      <td>1</td>\n",
              "      <td>0</td>\n",
              "      <td>...</td>\n",
              "      <td>10.336353</td>\n",
              "      <td>299954</td>\n",
              "      <td>35.178050</td>\n",
              "      <td>752</td>\n",
              "      <td>4</td>\n",
              "      <td>9</td>\n",
              "      <td>United Kingdom</td>\n",
              "      <td>Europe</td>\n",
              "      <td>Northern Hemisphere</td>\n",
              "      <td>1</td>\n",
              "    </tr>\n",
              "    <tr>\n",
              "      <th>2932</th>\n",
              "      <td>DBG3809</td>\n",
              "      <td>62</td>\n",
              "      <td>Female</td>\n",
              "      <td>294</td>\n",
              "      <td>178/82</td>\n",
              "      <td>46</td>\n",
              "      <td>0</td>\n",
              "      <td>0</td>\n",
              "      <td>1</td>\n",
              "      <td>0</td>\n",
              "      <td>...</td>\n",
              "      <td>3.158940</td>\n",
              "      <td>299909</td>\n",
              "      <td>29.349883</td>\n",
              "      <td>347</td>\n",
              "      <td>6</td>\n",
              "      <td>4</td>\n",
              "      <td>United Kingdom</td>\n",
              "      <td>Europe</td>\n",
              "      <td>Northern Hemisphere</td>\n",
              "      <td>1</td>\n",
              "    </tr>\n",
              "    <tr>\n",
              "      <th>8010</th>\n",
              "      <td>TZP7090</td>\n",
              "      <td>38</td>\n",
              "      <td>Female</td>\n",
              "      <td>397</td>\n",
              "      <td>172/89</td>\n",
              "      <td>88</td>\n",
              "      <td>0</td>\n",
              "      <td>0</td>\n",
              "      <td>0</td>\n",
              "      <td>0</td>\n",
              "      <td>...</td>\n",
              "      <td>3.831414</td>\n",
              "      <td>299891</td>\n",
              "      <td>37.112740</td>\n",
              "      <td>677</td>\n",
              "      <td>7</td>\n",
              "      <td>4</td>\n",
              "      <td>Brazil</td>\n",
              "      <td>South America</td>\n",
              "      <td>Southern Hemisphere</td>\n",
              "      <td>0</td>\n",
              "    </tr>\n",
              "    <tr>\n",
              "      <th>2783</th>\n",
              "      <td>JOG1127</td>\n",
              "      <td>90</td>\n",
              "      <td>Male</td>\n",
              "      <td>343</td>\n",
              "      <td>102/72</td>\n",
              "      <td>88</td>\n",
              "      <td>1</td>\n",
              "      <td>1</td>\n",
              "      <td>1</td>\n",
              "      <td>1</td>\n",
              "      <td>...</td>\n",
              "      <td>3.438909</td>\n",
              "      <td>299850</td>\n",
              "      <td>20.745345</td>\n",
              "      <td>443</td>\n",
              "      <td>3</td>\n",
              "      <td>9</td>\n",
              "      <td>France</td>\n",
              "      <td>Europe</td>\n",
              "      <td>Northern Hemisphere</td>\n",
              "      <td>1</td>\n",
              "    </tr>\n",
              "    <tr>\n",
              "      <th>8285</th>\n",
              "      <td>GAP1994</td>\n",
              "      <td>78</td>\n",
              "      <td>Male</td>\n",
              "      <td>357</td>\n",
              "      <td>102/61</td>\n",
              "      <td>83</td>\n",
              "      <td>1</td>\n",
              "      <td>0</td>\n",
              "      <td>1</td>\n",
              "      <td>1</td>\n",
              "      <td>...</td>\n",
              "      <td>6.970358</td>\n",
              "      <td>299810</td>\n",
              "      <td>26.532021</td>\n",
              "      <td>716</td>\n",
              "      <td>6</td>\n",
              "      <td>10</td>\n",
              "      <td>Nigeria</td>\n",
              "      <td>Africa</td>\n",
              "      <td>Northern Hemisphere</td>\n",
              "      <td>0</td>\n",
              "    </tr>\n",
              "  </tbody>\n",
              "</table>\n",
              "<p>5 rows × 26 columns</p>\n",
              "</div>\n",
              "    <div class=\"colab-df-buttons\">\n",
              "\n",
              "  <div class=\"colab-df-container\">\n",
              "    <button class=\"colab-df-convert\" onclick=\"convertToInteractive('df-7c9ea0ab-e4e6-409b-88be-3a5f58769dde')\"\n",
              "            title=\"Convert this dataframe to an interactive table.\"\n",
              "            style=\"display:none;\">\n",
              "\n",
              "  <svg xmlns=\"http://www.w3.org/2000/svg\" height=\"24px\" viewBox=\"0 -960 960 960\">\n",
              "    <path d=\"M120-120v-720h720v720H120Zm60-500h600v-160H180v160Zm220 220h160v-160H400v160Zm0 220h160v-160H400v160ZM180-400h160v-160H180v160Zm440 0h160v-160H620v160ZM180-180h160v-160H180v160Zm440 0h160v-160H620v160Z\"/>\n",
              "  </svg>\n",
              "    </button>\n",
              "\n",
              "  <style>\n",
              "    .colab-df-container {\n",
              "      display:flex;\n",
              "      gap: 12px;\n",
              "    }\n",
              "\n",
              "    .colab-df-convert {\n",
              "      background-color: #E8F0FE;\n",
              "      border: none;\n",
              "      border-radius: 50%;\n",
              "      cursor: pointer;\n",
              "      display: none;\n",
              "      fill: #1967D2;\n",
              "      height: 32px;\n",
              "      padding: 0 0 0 0;\n",
              "      width: 32px;\n",
              "    }\n",
              "\n",
              "    .colab-df-convert:hover {\n",
              "      background-color: #E2EBFA;\n",
              "      box-shadow: 0px 1px 2px rgba(60, 64, 67, 0.3), 0px 1px 3px 1px rgba(60, 64, 67, 0.15);\n",
              "      fill: #174EA6;\n",
              "    }\n",
              "\n",
              "    .colab-df-buttons div {\n",
              "      margin-bottom: 4px;\n",
              "    }\n",
              "\n",
              "    [theme=dark] .colab-df-convert {\n",
              "      background-color: #3B4455;\n",
              "      fill: #D2E3FC;\n",
              "    }\n",
              "\n",
              "    [theme=dark] .colab-df-convert:hover {\n",
              "      background-color: #434B5C;\n",
              "      box-shadow: 0px 1px 3px 1px rgba(0, 0, 0, 0.15);\n",
              "      filter: drop-shadow(0px 1px 2px rgba(0, 0, 0, 0.3));\n",
              "      fill: #FFFFFF;\n",
              "    }\n",
              "  </style>\n",
              "\n",
              "    <script>\n",
              "      const buttonEl =\n",
              "        document.querySelector('#df-7c9ea0ab-e4e6-409b-88be-3a5f58769dde button.colab-df-convert');\n",
              "      buttonEl.style.display =\n",
              "        google.colab.kernel.accessAllowed ? 'block' : 'none';\n",
              "\n",
              "      async function convertToInteractive(key) {\n",
              "        const element = document.querySelector('#df-7c9ea0ab-e4e6-409b-88be-3a5f58769dde');\n",
              "        const dataTable =\n",
              "          await google.colab.kernel.invokeFunction('convertToInteractive',\n",
              "                                                    [key], {});\n",
              "        if (!dataTable) return;\n",
              "\n",
              "        const docLinkHtml = 'Like what you see? Visit the ' +\n",
              "          '<a target=\"_blank\" href=https://colab.research.google.com/notebooks/data_table.ipynb>data table notebook</a>'\n",
              "          + ' to learn more about interactive tables.';\n",
              "        element.innerHTML = '';\n",
              "        dataTable['output_type'] = 'display_data';\n",
              "        await google.colab.output.renderOutput(dataTable, element);\n",
              "        const docLink = document.createElement('div');\n",
              "        docLink.innerHTML = docLinkHtml;\n",
              "        element.appendChild(docLink);\n",
              "      }\n",
              "    </script>\n",
              "  </div>\n",
              "\n",
              "\n",
              "<div id=\"df-c42d7163-2464-4717-beaa-b6107f6dc420\">\n",
              "  <button class=\"colab-df-quickchart\" onclick=\"quickchart('df-c42d7163-2464-4717-beaa-b6107f6dc420')\"\n",
              "            title=\"Suggest charts\"\n",
              "            style=\"display:none;\">\n",
              "\n",
              "<svg xmlns=\"http://www.w3.org/2000/svg\" height=\"24px\"viewBox=\"0 0 24 24\"\n",
              "     width=\"24px\">\n",
              "    <g>\n",
              "        <path d=\"M19 3H5c-1.1 0-2 .9-2 2v14c0 1.1.9 2 2 2h14c1.1 0 2-.9 2-2V5c0-1.1-.9-2-2-2zM9 17H7v-7h2v7zm4 0h-2V7h2v10zm4 0h-2v-4h2v4z\"/>\n",
              "    </g>\n",
              "</svg>\n",
              "  </button>\n",
              "\n",
              "<style>\n",
              "  .colab-df-quickchart {\n",
              "      --bg-color: #E8F0FE;\n",
              "      --fill-color: #1967D2;\n",
              "      --hover-bg-color: #E2EBFA;\n",
              "      --hover-fill-color: #174EA6;\n",
              "      --disabled-fill-color: #AAA;\n",
              "      --disabled-bg-color: #DDD;\n",
              "  }\n",
              "\n",
              "  [theme=dark] .colab-df-quickchart {\n",
              "      --bg-color: #3B4455;\n",
              "      --fill-color: #D2E3FC;\n",
              "      --hover-bg-color: #434B5C;\n",
              "      --hover-fill-color: #FFFFFF;\n",
              "      --disabled-bg-color: #3B4455;\n",
              "      --disabled-fill-color: #666;\n",
              "  }\n",
              "\n",
              "  .colab-df-quickchart {\n",
              "    background-color: var(--bg-color);\n",
              "    border: none;\n",
              "    border-radius: 50%;\n",
              "    cursor: pointer;\n",
              "    display: none;\n",
              "    fill: var(--fill-color);\n",
              "    height: 32px;\n",
              "    padding: 0;\n",
              "    width: 32px;\n",
              "  }\n",
              "\n",
              "  .colab-df-quickchart:hover {\n",
              "    background-color: var(--hover-bg-color);\n",
              "    box-shadow: 0 1px 2px rgba(60, 64, 67, 0.3), 0 1px 3px 1px rgba(60, 64, 67, 0.15);\n",
              "    fill: var(--button-hover-fill-color);\n",
              "  }\n",
              "\n",
              "  .colab-df-quickchart-complete:disabled,\n",
              "  .colab-df-quickchart-complete:disabled:hover {\n",
              "    background-color: var(--disabled-bg-color);\n",
              "    fill: var(--disabled-fill-color);\n",
              "    box-shadow: none;\n",
              "  }\n",
              "\n",
              "  .colab-df-spinner {\n",
              "    border: 2px solid var(--fill-color);\n",
              "    border-color: transparent;\n",
              "    border-bottom-color: var(--fill-color);\n",
              "    animation:\n",
              "      spin 1s steps(1) infinite;\n",
              "  }\n",
              "\n",
              "  @keyframes spin {\n",
              "    0% {\n",
              "      border-color: transparent;\n",
              "      border-bottom-color: var(--fill-color);\n",
              "      border-left-color: var(--fill-color);\n",
              "    }\n",
              "    20% {\n",
              "      border-color: transparent;\n",
              "      border-left-color: var(--fill-color);\n",
              "      border-top-color: var(--fill-color);\n",
              "    }\n",
              "    30% {\n",
              "      border-color: transparent;\n",
              "      border-left-color: var(--fill-color);\n",
              "      border-top-color: var(--fill-color);\n",
              "      border-right-color: var(--fill-color);\n",
              "    }\n",
              "    40% {\n",
              "      border-color: transparent;\n",
              "      border-right-color: var(--fill-color);\n",
              "      border-top-color: var(--fill-color);\n",
              "    }\n",
              "    60% {\n",
              "      border-color: transparent;\n",
              "      border-right-color: var(--fill-color);\n",
              "    }\n",
              "    80% {\n",
              "      border-color: transparent;\n",
              "      border-right-color: var(--fill-color);\n",
              "      border-bottom-color: var(--fill-color);\n",
              "    }\n",
              "    90% {\n",
              "      border-color: transparent;\n",
              "      border-bottom-color: var(--fill-color);\n",
              "    }\n",
              "  }\n",
              "</style>\n",
              "\n",
              "  <script>\n",
              "    async function quickchart(key) {\n",
              "      const quickchartButtonEl =\n",
              "        document.querySelector('#' + key + ' button');\n",
              "      quickchartButtonEl.disabled = true;  // To prevent multiple clicks.\n",
              "      quickchartButtonEl.classList.add('colab-df-spinner');\n",
              "      try {\n",
              "        const charts = await google.colab.kernel.invokeFunction(\n",
              "            'suggestCharts', [key], {});\n",
              "      } catch (error) {\n",
              "        console.error('Error during call to suggestCharts:', error);\n",
              "      }\n",
              "      quickchartButtonEl.classList.remove('colab-df-spinner');\n",
              "      quickchartButtonEl.classList.add('colab-df-quickchart-complete');\n",
              "    }\n",
              "    (() => {\n",
              "      let quickchartButtonEl =\n",
              "        document.querySelector('#df-c42d7163-2464-4717-beaa-b6107f6dc420 button');\n",
              "      quickchartButtonEl.style.display =\n",
              "        google.colab.kernel.accessAllowed ? 'block' : 'none';\n",
              "    })();\n",
              "  </script>\n",
              "</div>\n",
              "    </div>\n",
              "  </div>\n"
            ],
            "text/plain": [
              "     Patient ID  Age     Sex  Cholesterol Blood Pressure  Heart Rate  \\\n",
              "1309    WQX6573   52    Male          190          95/81          89   \n",
              "2932    DBG3809   62  Female          294         178/82          46   \n",
              "8010    TZP7090   38  Female          397         172/89          88   \n",
              "2783    JOG1127   90    Male          343         102/72          88   \n",
              "8285    GAP1994   78    Male          357         102/61          83   \n",
              "\n",
              "      Diabetes  Family History  Smoking  Obesity  ...  \\\n",
              "1309         1               0        1        0  ...   \n",
              "2932         0               0        1        0  ...   \n",
              "8010         0               0        0        0  ...   \n",
              "2783         1               1        1        1  ...   \n",
              "8285         1               0        1        1  ...   \n",
              "\n",
              "      Sedentary Hours Per Day  Income        BMI  Triglycerides  \\\n",
              "1309                10.336353  299954  35.178050            752   \n",
              "2932                 3.158940  299909  29.349883            347   \n",
              "8010                 3.831414  299891  37.112740            677   \n",
              "2783                 3.438909  299850  20.745345            443   \n",
              "8285                 6.970358  299810  26.532021            716   \n",
              "\n",
              "      Physical Activity Days Per Week  Sleep Hours Per Day         Country  \\\n",
              "1309                                4                    9  United Kingdom   \n",
              "2932                                6                    4  United Kingdom   \n",
              "8010                                7                    4          Brazil   \n",
              "2783                                3                    9          France   \n",
              "8285                                6                   10         Nigeria   \n",
              "\n",
              "          Continent           Hemisphere  Heart Attack Risk  \n",
              "1309         Europe  Northern Hemisphere                  1  \n",
              "2932         Europe  Northern Hemisphere                  1  \n",
              "8010  South America  Southern Hemisphere                  0  \n",
              "2783         Europe  Northern Hemisphere                  1  \n",
              "8285         Africa  Northern Hemisphere                  0  \n",
              "\n",
              "[5 rows x 26 columns]"
            ]
          },
          "execution_count": 30,
          "metadata": {},
          "output_type": "execute_result"
        }
      ],
      "source": [
        "# Sort by Income and Heart Attack Risk\n",
        "sorted_by_income_risk = data.sort_values(by=['Income', 'Heart Attack Risk'], ascending=[False, True])\n",
        "sorted_by_income_risk.head()"
      ]
    },
    {
      "cell_type": "markdown",
      "metadata": {
        "id": "afQu0lG4BBaW"
      },
      "source": [
        "Sorting the data by income in descending order and heart attack risk in ascending order highlights patients who are financially well-off but may still be at risk for heart attacks. This sorting emphasizes the importance of not overlooking high-income individuals in preventive healthcare measures. It also suggests that income alone is not a protective factor against heart disease, and a holistic approach to health is crucial."
      ]
    },
    {
      "cell_type": "markdown",
      "metadata": {
        "id": "6B_KoSOzBEfD"
      },
      "source": [
        "##Frequency Distributions for Categorical and Numeric Variables"
      ]
    },
    {
      "cell_type": "markdown",
      "metadata": {
        "id": "A-WM59YECMsC"
      },
      "source": [
        "Let's create frequency distributions for different variables."
      ]
    },
    {
      "cell_type": "code",
      "execution_count": null,
      "metadata": {
        "colab": {
          "base_uri": "https://localhost:8080/"
        },
        "id": "2g15QzSjAsdt",
        "outputId": "907553ef-c872-4b75-961a-9d83ac0c85f7"
      },
      "outputs": [
        {
          "name": "stdout",
          "output_type": "stream",
          "text": [
            "Sex\n",
            "Male      6111\n",
            "Female    2652\n",
            "Name: count, dtype: int64\n"
          ]
        }
      ],
      "source": [
        "# Sex\n",
        "sex_distribution = data['Sex'].value_counts()\n",
        "print(sex_distribution)"
      ]
    },
    {
      "cell_type": "markdown",
      "metadata": {
        "id": "gd2WmutOGJr1"
      },
      "source": [
        "The sex distribution shows a higher number of males (6111) compared to females (2652) in the dataset."
      ]
    },
    {
      "cell_type": "code",
      "execution_count": null,
      "metadata": {
        "colab": {
          "base_uri": "https://localhost:8080/"
        },
        "id": "JCzkTLlnCiy4",
        "outputId": "33b1c50d-620a-4fb2-f52c-d0ff68af9a05"
      },
      "outputs": [
        {
          "name": "stdout",
          "output_type": "stream",
          "text": [
            "Diabetes\n",
            "1    5716\n",
            "0    3047\n",
            "Name: count, dtype: int64\n"
          ]
        }
      ],
      "source": [
        "# Diabets\n",
        "diabetes_distribution = data['Diabetes'].value_counts()\n",
        "print(diabetes_distribution)"
      ]
    },
    {
      "cell_type": "markdown",
      "metadata": {
        "id": "3egD6MPVGPFt"
      },
      "source": [
        "The diabetes distribution reveals that a larger portion of the dataset consists of individuals with diabetes (5716) compared to those without diabetes (3047). This imbalance suggests a higher prevalence of diabetes in the studied population, which may be crucial for health-related analyses or interventions."
      ]
    },
    {
      "cell_type": "code",
      "execution_count": null,
      "metadata": {
        "colab": {
          "base_uri": "https://localhost:8080/"
        },
        "id": "Mh49Xe4ODBav",
        "outputId": "770cdbe2-a1b3-4286-c955-83f68387cc5b"
      },
      "outputs": [
        {
          "name": "stdout",
          "output_type": "stream",
          "text": [
            "Continent\n",
            "Asia             2543\n",
            "Europe           2241\n",
            "South America    1362\n",
            "Australia         884\n",
            "Africa            873\n",
            "North America     860\n",
            "Name: count, dtype: int64\n"
          ]
        }
      ],
      "source": [
        "# Continents\n",
        "continent_distribution = data['Continent'].value_counts()\n",
        "print(continent_distribution)"
      ]
    },
    {
      "cell_type": "markdown",
      "metadata": {
        "id": "po-V8Nt3GQUj"
      },
      "source": [
        "The distribution across continents shows that the dataset is diverse, with the highest number of entries from Asia (2543) and Europe (2241). South America (1362), Australia (884), Africa (873), and North America (860) follow. This geographical spread can provide a comprehensive view of the variables studied across different regions, but also indicates a higher representation from certain continents which might influence the generalizability of the findings."
      ]
    },
    {
      "cell_type": "code",
      "execution_count": null,
      "metadata": {
        "colab": {
          "base_uri": "https://localhost:8080/",
          "height": 471
        },
        "id": "mbqyHMzMCywY",
        "outputId": "b91a4341-39fa-44bd-ee08-404f5aa70556"
      },
      "outputs": [
        {
          "data": {
            "image/png": "[encoded data removed]",
            "text/plain": [
              "<Figure size 640x480 with 1 Axes>"
            ]
          },
          "metadata": {},
          "output_type": "display_data"
        }
      ],
      "source": [
        "# Age\n",
        "plt.hist(data['Age'], bins=20, color='blue', edgecolor='black')\n",
        "plt.title('Age Distribution')\n",
        "plt.xlabel('Age')\n",
        "plt.ylabel('Frequency')\n",
        "plt.show()"
      ]
    },
    {
      "cell_type": "markdown",
      "metadata": {
        "id": "PQ996AAzGlUN"
      },
      "source": [
        "The age distribution is approximately uniform. However, there are strong jumps almost every 10-15 years. Surprisingly, the largest number of people studied are centenarians (90 years old), the least aged people in the range of 50-55 years."
      ]
    },
    {
      "cell_type": "code",
      "execution_count": null,
      "metadata": {
        "colab": {
          "base_uri": "https://localhost:8080/",
          "height": 471
        },
        "id": "euJvagyxC42V",
        "outputId": "a2c9c3d3-1754-4dfa-e3be-fdd3d519834f"
      },
      "outputs": [
        {
          "data": {
            "image/png": "[encoded data removed]",
            "text/plain": [
              "<Figure size 640x480 with 1 Axes>"
            ]
          },
          "metadata": {},
          "output_type": "display_data"
        }
      ],
      "source": [
        "# Income\n",
        "plt.hist(data['Income'], bins=20, color='green', edgecolor='black')\n",
        "plt.title('Income Distribution')\n",
        "plt.xlabel('Income')\n",
        "plt.ylabel('Frequency')\n",
        "plt.show()"
      ]
    },
    {
      "cell_type": "markdown",
      "metadata": {
        "id": "J-i-5T-0HNM6"
      },
      "source": [
        "Income distribution is also uniform. There is no significant difference between incomes. However, there is a slow decline in the number of rich people, namely after 240,000 (the number of holders of such incomes is gradually decreasing)."
      ]
    },
    {
      "cell_type": "code",
      "execution_count": null,
      "metadata": {
        "colab": {
          "base_uri": "https://localhost:8080/",
          "height": 471
        },
        "id": "qOtB8jyKDNF5",
        "outputId": "d398128c-b884-4205-e8d3-9a14bb646169"
      },
      "outputs": [
        {
          "data": {
            "image/png": "[encoded data removed]",
            "text/plain": [
              "<Figure size 640x480 with 1 Axes>"
            ]
          },
          "metadata": {},
          "output_type": "display_data"
        }
      ],
      "source": [
        "# Exercise Hours Per Week\n",
        "plt.hist(data['Exercise Hours Per Week'], bins=20, color='purple', edgecolor='black')\n",
        "plt.title('Exercise Hours Per Week Distribution')\n",
        "plt.xlabel('Exercise Hours Per Week')\n",
        "plt.ylabel('Frequency')\n",
        "plt.show()"
      ]
    },
    {
      "cell_type": "markdown",
      "metadata": {
        "id": "LWvgLx7NH1UF"
      },
      "source": [
        "Surprisingly, the distribution seems to be uniform). The number of people performing the exercises is quite large - and of very different duration / quantity. However, the clear leaders are still those who either do not perform the exercises in principle (0), or perform about 16. In simple words: lazy or rather athletic people. The average trend is observed in the intervals 2.5-6 and 8-13.5"
      ]
    },
    {
      "cell_type": "markdown",
      "metadata": {
        "id": "ZqLqXcWPJZxq"
      },
      "source": [
        "##Frequency Distributions Based on Filtered Data"
      ]
    },
    {
      "cell_type": "markdown",
      "metadata": {
        "id": "-jZQgM5NJhcd"
      },
      "source": [
        "Using the previously defined filters, we will create frequency distributions for some of the variables within those specific subsets of data."
      ]
    },
    {
      "cell_type": "code",
      "execution_count": null,
      "metadata": {
        "colab": {
          "base_uri": "https://localhost:8080/",
          "height": 471
        },
        "id": "wbSjxnRBD4zw",
        "outputId": "84cc767b-2100-444d-b4af-580f3240f78d"
      },
      "outputs": [
        {
          "data": {
            "image/png": "[encoded data removed]",
            "text/plain": [
              "<Figure size 640x480 with 1 Axes>"
            ]
          },
          "metadata": {},
          "output_type": "display_data"
        }
      ],
      "source": [
        "# Age Distribution among Young Adults with High Cholesterol\n",
        "young_high_cholesterol['Age'].plot(kind='hist', bins=[15, 20, 25, 30, 35], rwidth=0.8)\n",
        "plt.title('Age Distribution of Young Adults with High Cholesterol')\n",
        "plt.xlabel('Age')\n",
        "plt.ylabel('Frequency')\n",
        "plt.show()"
      ]
    },
    {
      "cell_type": "markdown",
      "metadata": {
        "id": "2HTMP5azLakz"
      },
      "source": [
        "The histogram would likely show a skewed distribution with a higher frequency in the older age group of this segment (close to 35 years), indicating that cholesterol issues start becoming more prominent as young adults age closer to mid-30s."
      ]
    },
    {
      "cell_type": "code",
      "execution_count": null,
      "metadata": {
        "colab": {
          "base_uri": "https://localhost:8080/",
          "height": 471
        },
        "id": "hyVyjgqIJpEN",
        "outputId": "0a1c211e-f120-4bed-bdfb-e83cfae5f9e3"
      },
      "outputs": [
        {
          "data": {
            "image/png": "[encoded data removed]",
            "text/plain": [
              "<Figure size 640x480 with 1 Axes>"
            ]
          },
          "metadata": {},
          "output_type": "display_data"
        }
      ],
      "source": [
        "# Distribution of Systolic Blood Pressure among Elderly\n",
        "elderly_high_bp['Blood Pressure'].apply(lambda x: int(x.split('/')[0])).plot(kind='hist', bins=range(140, 200, 10), rwidth=0.8)\n",
        "plt.title('Distribution of Systolic Blood Pressure among Elderly with High BP')\n",
        "plt.xlabel('Systolic Blood Pressure')\n",
        "plt.ylabel('Frequency')\n",
        "plt.show()"
      ]
    },
    {
      "cell_type": "markdown",
      "metadata": {
        "id": "WTyF_Yp7Lkeu"
      },
      "source": [
        "This distribution will help visualize how many elderly people are barely above the threshold versus those who are significantly above, which might imply severe hypertension. As we can see, there are very few people with a value above 180."
      ]
    },
    {
      "cell_type": "code",
      "execution_count": null,
      "metadata": {
        "colab": {
          "base_uri": "https://localhost:8080/"
        },
        "id": "fLWPx5PjOiFv",
        "outputId": "268375dc-e67f-488f-de0c-54bae0ee1463"
      },
      "outputs": [
        {
          "data": {
            "text/plain": [
              "Family History\n",
              "1    3890\n",
              "Name: count, dtype: int64"
            ]
          },
          "execution_count": 53,
          "metadata": {},
          "output_type": "execute_result"
        }
      ],
      "source": [
        "smokers_family_history['Family History'].value_counts()"
      ]
    },
    {
      "cell_type": "code",
      "execution_count": null,
      "metadata": {
        "colab": {
          "base_uri": "https://localhost:8080/",
          "height": 471
        },
        "id": "HRdaz9I1JyV4",
        "outputId": "b0cdb261-3741-4411-fac5-4edd8e7ba0c9"
      },
      "outputs": [
        {
          "data": {
            "image/png": "[encoded data removed]",
            "text/plain": [
              "<Figure size 640x480 with 1 Axes>"
            ]
          },
          "metadata": {},
          "output_type": "display_data"
        }
      ],
      "source": [
        "# Smoking and Family History in Smokers\n",
        "smokers_family_history['Family History'].value_counts().plot(kind='bar')\n",
        "plt.title('Frequency of Family History of Heart Problems among Smokers')\n",
        "plt.xlabel('Family History')\n",
        "plt.ylabel('Number of Smokers')\n",
        "plt.xticks(ticks=[0, 1], labels=['No', 'Yes'], rotation=0)\n",
        "plt.show()"
      ]
    },
    {
      "cell_type": "markdown",
      "metadata": {
        "id": "7ITB3JG5LtW3"
      },
      "source": [
        " This bar chart would likely show a significant number of smokers having a family history of heart problems, emphasizing the compounded risk factors. We can see from the graph that there were no smokers in this sample"
      ]
    },
    {
      "cell_type": "code",
      "execution_count": null,
      "metadata": {
        "colab": {
          "base_uri": "https://localhost:8080/",
          "height": 471
        },
        "id": "JNxbpmJCJ4qP",
        "outputId": "3d322f06-6849-4880-d340-11fde26348d2"
      },
      "outputs": [
        {
          "data": {
            "image/png": "[encoded data removed]",
            "text/plain": [
              "<Figure size 640x480 with 1 Axes>"
            ]
          },
          "metadata": {},
          "output_type": "display_data"
        }
      ],
      "source": [
        "# Hours Spent Sedentary among Obese Individuals\n",
        "obese_sedentary['Sedentary Hours Per Day'].plot(kind='hist', bins=range(0, 24, 2), rwidth=0.8)\n",
        "plt.title('Distribution of Sedentary Hours among Obese Individuals')\n",
        "plt.xlabel('Sedentary Hours Per Day')\n",
        "plt.ylabel('Frequency')\n",
        "plt.show()"
      ]
    },
    {
      "cell_type": "markdown",
      "metadata": {
        "id": "3bKrnpTaL_5U"
      },
      "source": [
        "This histogram will show peaks possibly around the typical working day length (8-12 hours), indicating lifestyle patterns that contribute to obesity and heart disease risk."
      ]
    },
    {
      "cell_type": "code",
      "execution_count": null,
      "metadata": {
        "colab": {
          "base_uri": "https://localhost:8080/",
          "height": 471
        },
        "id": "XKT9WVHCKBS0",
        "outputId": "0088c965-7b37-4eb7-91a9-eb91118c2c93"
      },
      "outputs": [
        {
          "data": {
            "image/png": "[encoded data removed]",
            "text/plain": [
              "<Figure size 640x480 with 1 Axes>"
            ]
          },
          "metadata": {},
          "output_type": "display_data"
        }
      ],
      "source": [
        "# Diet Quality among High-Income Individuals\n",
        "high_income_unhealthy_diet['Diet'].value_counts().plot(kind='bar')\n",
        "plt.title('Diet Quality among High-Income Individuals')\n",
        "plt.xlabel('Diet Type')\n",
        "plt.ylabel('Frequency')\n",
        "plt.xticks(rotation=0)\n",
        "plt.show()"
      ]
    },
    {
      "cell_type": "markdown",
      "metadata": {
        "id": "nNNFlML4MKnZ"
      },
      "source": [
        "Despite the higher income, the chart might reveal a surprising number of individuals with unhealthy diets, pointing to lifestyle choices that are not influenced by economic status alone. The graph shows that all the filtered subjects have an unhealthy type of diet."
      ]
    },
    {
      "cell_type": "markdown",
      "metadata": {
        "id": "2-hGfN0TPCWg"
      },
      "source": [
        "##New Variables"
      ]
    },
    {
      "cell_type": "markdown",
      "metadata": {
        "id": "1bR0j22XPG_I"
      },
      "source": [
        "Let's create new variables based on existing data which might help in further analysis."
      ]
    },
    {
      "cell_type": "code",
      "execution_count": null,
      "metadata": {
        "colab": {
          "base_uri": "https://localhost:8080/"
        },
        "id": "Rg27ABByKGev",
        "outputId": "e212ee2b-ab9b-4d34-b451-9406989a059d"
      },
      "outputs": [
        {
          "output_type": "stream",
          "name": "stdout",
          "text": [
            "Income Category\n",
            "Middle    3149\n",
            "High      3042\n",
            "Low       2572\n",
            "Name: count, dtype: int64\n"
          ]
        }
      ],
      "source": [
        "# Income Category\n",
        "data['Income Category'] = pd.cut(data['Income'], bins=[0, 100000, 200000, np.inf], labels=['Low', 'Middle', 'High'])\n",
        "print(data['Income Category'].value_counts())"
      ]
    },
    {
      "cell_type": "markdown",
      "metadata": {
        "id": "jMSmmbFxPyVU"
      },
      "source": [
        "This variable categorizes individuals based on their income, which can be useful in analyzing socio-economic factors affecting heart health."
      ]
    },
    {
      "cell_type": "code",
      "execution_count": null,
      "metadata": {
        "colab": {
          "base_uri": "https://localhost:8080/"
        },
        "id": "ezBfHmqWPcLz",
        "outputId": "72fcfb3f-c787-4b4d-ecd6-c08483a73db4"
      },
      "outputs": [
        {
          "output_type": "stream",
          "name": "stdout",
          "text": [
            "Risk Factor Count\n",
            "3    3499\n",
            "2    2848\n",
            "4    1484\n",
            "1     858\n",
            "0      74\n",
            "Name: count, dtype: int64\n"
          ]
        }
      ],
      "source": [
        "# Risk Factor Count\n",
        "data['Risk Factor Count'] = (data['Smoking'] + data['Obesity'] + (data['Cholesterol'] > 240) + (data['Diabetes']).astype(int))\n",
        "print(data['Risk Factor Count'].value_counts())"
      ]
    },
    {
      "cell_type": "markdown",
      "metadata": {
        "id": "4QFtM5zqPzs3"
      },
      "source": [
        "Summing up major risk factors to see how many are present in each individual, helping in quick risk assessment."
      ]
    },
    {
      "cell_type": "code",
      "execution_count": null,
      "metadata": {
        "colab": {
          "base_uri": "https://localhost:8080/"
        },
        "id": "qxnj3muaPoXV",
        "outputId": "1e48f79c-797d-4d37-d946-0e241cc85fd2"
      },
      "outputs": [
        {
          "output_type": "stream",
          "name": "stdout",
          "text": [
            "Physical Activity Level\n",
            "High        4325\n",
            "Moderate    2252\n",
            "Low         2186\n",
            "Name: count, dtype: int64\n"
          ]
        }
      ],
      "source": [
        "# Physical Activity Level\n",
        "data['Physical Activity Level'] = pd.cut(data['Physical Activity Days Per Week'], bins=[-1, 1, 3, 7], labels=['Low', 'Moderate', 'High'])\n",
        "print(data['Physical Activity Level'].value_counts())"
      ]
    },
    {
      "cell_type": "markdown",
      "metadata": {
        "id": "t0MIXk7ZP14D"
      },
      "source": [
        "Categorizes individuals based on their physical activity frequency, crucial for lifestyle-based risk analysis."
      ]
    },
    {
      "cell_type": "code",
      "execution_count": null,
      "metadata": {
        "colab": {
          "base_uri": "https://localhost:8080/",
          "height": 394
        },
        "id": "ILE8EN3kNv3K",
        "outputId": "cdda1df5-7602-4220-cfbe-ac50df996b85"
      },
      "outputs": [
        {
          "data": {
            "application/vnd.google.colaboratory.intrinsic+json": {
              "type": "dataframe",
              "variable_name": "data"
            },
            "text/html": [
              "\n",
              "  <div id=\"df-6f7095ba-791c-4520-95b2-e78459d6189a\" class=\"colab-df-container\">\n",
              "    <div>\n",
              "<style scoped>\n",
              "    .dataframe tbody tr th:only-of-type {\n",
              "        vertical-align: middle;\n",
              "    }\n",
              "\n",
              "    .dataframe tbody tr th {\n",
              "        vertical-align: top;\n",
              "    }\n",
              "\n",
              "    .dataframe thead th {\n",
              "        text-align: right;\n",
              "    }\n",
              "</style>\n",
              "<table border=\"1\" class=\"dataframe\">\n",
              "  <thead>\n",
              "    <tr style=\"text-align: right;\">\n",
              "      <th></th>\n",
              "      <th>Patient ID</th>\n",
              "      <th>Age</th>\n",
              "      <th>Sex</th>\n",
              "      <th>Cholesterol</th>\n",
              "      <th>Blood Pressure</th>\n",
              "      <th>Heart Rate</th>\n",
              "      <th>Diabetes</th>\n",
              "      <th>Family History</th>\n",
              "      <th>Smoking</th>\n",
              "      <th>Obesity</th>\n",
              "      <th>...</th>\n",
              "      <th>Triglycerides</th>\n",
              "      <th>Physical Activity Days Per Week</th>\n",
              "      <th>Sleep Hours Per Day</th>\n",
              "      <th>Country</th>\n",
              "      <th>Continent</th>\n",
              "      <th>Hemisphere</th>\n",
              "      <th>Heart Attack Risk</th>\n",
              "      <th>Income Category</th>\n",
              "      <th>Risk Factor Count</th>\n",
              "      <th>Physical Activity Level</th>\n",
              "    </tr>\n",
              "  </thead>\n",
              "  <tbody>\n",
              "    <tr>\n",
              "      <th>0</th>\n",
              "      <td>BMW7812</td>\n",
              "      <td>67</td>\n",
              "      <td>Male</td>\n",
              "      <td>208</td>\n",
              "      <td>158/88</td>\n",
              "      <td>72</td>\n",
              "      <td>0</td>\n",
              "      <td>0</td>\n",
              "      <td>1</td>\n",
              "      <td>0</td>\n",
              "      <td>...</td>\n",
              "      <td>286</td>\n",
              "      <td>0</td>\n",
              "      <td>6</td>\n",
              "      <td>Argentina</td>\n",
              "      <td>South America</td>\n",
              "      <td>Southern Hemisphere</td>\n",
              "      <td>0</td>\n",
              "      <td>High</td>\n",
              "      <td>1</td>\n",
              "      <td>Low</td>\n",
              "    </tr>\n",
              "    <tr>\n",
              "      <th>1</th>\n",
              "      <td>CZE1114</td>\n",
              "      <td>21</td>\n",
              "      <td>Male</td>\n",
              "      <td>389</td>\n",
              "      <td>165/93</td>\n",
              "      <td>98</td>\n",
              "      <td>1</td>\n",
              "      <td>1</td>\n",
              "      <td>1</td>\n",
              "      <td>1</td>\n",
              "      <td>...</td>\n",
              "      <td>235</td>\n",
              "      <td>1</td>\n",
              "      <td>7</td>\n",
              "      <td>Canada</td>\n",
              "      <td>North America</td>\n",
              "      <td>Northern Hemisphere</td>\n",
              "      <td>0</td>\n",
              "      <td>High</td>\n",
              "      <td>4</td>\n",
              "      <td>Low</td>\n",
              "    </tr>\n",
              "    <tr>\n",
              "      <th>2</th>\n",
              "      <td>BNI9906</td>\n",
              "      <td>21</td>\n",
              "      <td>Female</td>\n",
              "      <td>324</td>\n",
              "      <td>174/99</td>\n",
              "      <td>72</td>\n",
              "      <td>1</td>\n",
              "      <td>0</td>\n",
              "      <td>0</td>\n",
              "      <td>0</td>\n",
              "      <td>...</td>\n",
              "      <td>587</td>\n",
              "      <td>4</td>\n",
              "      <td>4</td>\n",
              "      <td>France</td>\n",
              "      <td>Europe</td>\n",
              "      <td>Northern Hemisphere</td>\n",
              "      <td>0</td>\n",
              "      <td>High</td>\n",
              "      <td>2</td>\n",
              "      <td>High</td>\n",
              "    </tr>\n",
              "    <tr>\n",
              "      <th>3</th>\n",
              "      <td>JLN3497</td>\n",
              "      <td>84</td>\n",
              "      <td>Male</td>\n",
              "      <td>383</td>\n",
              "      <td>163/100</td>\n",
              "      <td>73</td>\n",
              "      <td>1</td>\n",
              "      <td>1</td>\n",
              "      <td>1</td>\n",
              "      <td>0</td>\n",
              "      <td>...</td>\n",
              "      <td>378</td>\n",
              "      <td>3</td>\n",
              "      <td>4</td>\n",
              "      <td>Canada</td>\n",
              "      <td>North America</td>\n",
              "      <td>Northern Hemisphere</td>\n",
              "      <td>0</td>\n",
              "      <td>Middle</td>\n",
              "      <td>3</td>\n",
              "      <td>Moderate</td>\n",
              "    </tr>\n",
              "    <tr>\n",
              "      <th>4</th>\n",
              "      <td>GFO8847</td>\n",
              "      <td>66</td>\n",
              "      <td>Male</td>\n",
              "      <td>318</td>\n",
              "      <td>91/88</td>\n",
              "      <td>93</td>\n",
              "      <td>1</td>\n",
              "      <td>1</td>\n",
              "      <td>1</td>\n",
              "      <td>1</td>\n",
              "      <td>...</td>\n",
              "      <td>231</td>\n",
              "      <td>1</td>\n",
              "      <td>5</td>\n",
              "      <td>Thailand</td>\n",
              "      <td>Asia</td>\n",
              "      <td>Northern Hemisphere</td>\n",
              "      <td>0</td>\n",
              "      <td>Middle</td>\n",
              "      <td>4</td>\n",
              "      <td>Low</td>\n",
              "    </tr>\n",
              "  </tbody>\n",
              "</table>\n",
              "<p>5 rows × 29 columns</p>\n",
              "</div>\n",
              "    <div class=\"colab-df-buttons\">\n",
              "\n",
              "  <div class=\"colab-df-container\">\n",
              "    <button class=\"colab-df-convert\" onclick=\"convertToInteractive('df-6f7095ba-791c-4520-95b2-e78459d6189a')\"\n",
              "            title=\"Convert this dataframe to an interactive table.\"\n",
              "            style=\"display:none;\">\n",
              "\n",
              "  <svg xmlns=\"http://www.w3.org/2000/svg\" height=\"24px\" viewBox=\"0 -960 960 960\">\n",
              "    <path d=\"M120-120v-720h720v720H120Zm60-500h600v-160H180v160Zm220 220h160v-160H400v160Zm0 220h160v-160H400v160ZM180-400h160v-160H180v160Zm440 0h160v-160H620v160ZM180-180h160v-160H180v160Zm440 0h160v-160H620v160Z\"/>\n",
              "  </svg>\n",
              "    </button>\n",
              "\n",
              "  <style>\n",
              "    .colab-df-container {\n",
              "      display:flex;\n",
              "      gap: 12px;\n",
              "    }\n",
              "\n",
              "    .colab-df-convert {\n",
              "      background-color: #E8F0FE;\n",
              "      border: none;\n",
              "      border-radius: 50%;\n",
              "      cursor: pointer;\n",
              "      display: none;\n",
              "      fill: #1967D2;\n",
              "      height: 32px;\n",
              "      padding: 0 0 0 0;\n",
              "      width: 32px;\n",
              "    }\n",
              "\n",
              "    .colab-df-convert:hover {\n",
              "      background-color: #E2EBFA;\n",
              "      box-shadow: 0px 1px 2px rgba(60, 64, 67, 0.3), 0px 1px 3px 1px rgba(60, 64, 67, 0.15);\n",
              "      fill: #174EA6;\n",
              "    }\n",
              "\n",
              "    .colab-df-buttons div {\n",
              "      margin-bottom: 4px;\n",
              "    }\n",
              "\n",
              "    [theme=dark] .colab-df-convert {\n",
              "      background-color: #3B4455;\n",
              "      fill: #D2E3FC;\n",
              "    }\n",
              "\n",
              "    [theme=dark] .colab-df-convert:hover {\n",
              "      background-color: #434B5C;\n",
              "      box-shadow: 0px 1px 3px 1px rgba(0, 0, 0, 0.15);\n",
              "      filter: drop-shadow(0px 1px 2px rgba(0, 0, 0, 0.3));\n",
              "      fill: #FFFFFF;\n",
              "    }\n",
              "  </style>\n",
              "\n",
              "    <script>\n",
              "      const buttonEl =\n",
              "        document.querySelector('#df-6f7095ba-791c-4520-95b2-e78459d6189a button.colab-df-convert');\n",
              "      buttonEl.style.display =\n",
              "        google.colab.kernel.accessAllowed ? 'block' : 'none';\n",
              "\n",
              "      async function convertToInteractive(key) {\n",
              "        const element = document.querySelector('#df-6f7095ba-791c-4520-95b2-e78459d6189a');\n",
              "        const dataTable =\n",
              "          await google.colab.kernel.invokeFunction('convertToInteractive',\n",
              "                                                    [key], {});\n",
              "        if (!dataTable) return;\n",
              "\n",
              "        const docLinkHtml = 'Like what you see? Visit the ' +\n",
              "          '<a target=\"_blank\" href=https://colab.research.google.com/notebooks/data_table.ipynb>data table notebook</a>'\n",
              "          + ' to learn more about interactive tables.';\n",
              "        element.innerHTML = '';\n",
              "        dataTable['output_type'] = 'display_data';\n",
              "        await google.colab.output.renderOutput(dataTable, element);\n",
              "        const docLink = document.createElement('div');\n",
              "        docLink.innerHTML = docLinkHtml;\n",
              "        element.appendChild(docLink);\n",
              "      }\n",
              "    </script>\n",
              "  </div>\n",
              "\n",
              "\n",
              "<div id=\"df-f93b9e7d-5206-4015-8115-719344fc31bc\">\n",
              "  <button class=\"colab-df-quickchart\" onclick=\"quickchart('df-f93b9e7d-5206-4015-8115-719344fc31bc')\"\n",
              "            title=\"Suggest charts\"\n",
              "            style=\"display:none;\">\n",
              "\n",
              "<svg xmlns=\"http://www.w3.org/2000/svg\" height=\"24px\"viewBox=\"0 0 24 24\"\n",
              "     width=\"24px\">\n",
              "    <g>\n",
              "        <path d=\"M19 3H5c-1.1 0-2 .9-2 2v14c0 1.1.9 2 2 2h14c1.1 0 2-.9 2-2V5c0-1.1-.9-2-2-2zM9 17H7v-7h2v7zm4 0h-2V7h2v10zm4 0h-2v-4h2v4z\"/>\n",
              "    </g>\n",
              "</svg>\n",
              "  </button>\n",
              "\n",
              "<style>\n",
              "  .colab-df-quickchart {\n",
              "      --bg-color: #E8F0FE;\n",
              "      --fill-color: #1967D2;\n",
              "      --hover-bg-color: #E2EBFA;\n",
              "      --hover-fill-color: #174EA6;\n",
              "      --disabled-fill-color: #AAA;\n",
              "      --disabled-bg-color: #DDD;\n",
              "  }\n",
              "\n",
              "  [theme=dark] .colab-df-quickchart {\n",
              "      --bg-color: #3B4455;\n",
              "      --fill-color: #D2E3FC;\n",
              "      --hover-bg-color: #434B5C;\n",
              "      --hover-fill-color: #FFFFFF;\n",
              "      --disabled-bg-color: #3B4455;\n",
              "      --disabled-fill-color: #666;\n",
              "  }\n",
              "\n",
              "  .colab-df-quickchart {\n",
              "    background-color: var(--bg-color);\n",
              "    border: none;\n",
              "    border-radius: 50%;\n",
              "    cursor: pointer;\n",
              "    display: none;\n",
              "    fill: var(--fill-color);\n",
              "    height: 32px;\n",
              "    padding: 0;\n",
              "    width: 32px;\n",
              "  }\n",
              "\n",
              "  .colab-df-quickchart:hover {\n",
              "    background-color: var(--hover-bg-color);\n",
              "    box-shadow: 0 1px 2px rgba(60, 64, 67, 0.3), 0 1px 3px 1px rgba(60, 64, 67, 0.15);\n",
              "    fill: var(--button-hover-fill-color);\n",
              "  }\n",
              "\n",
              "  .colab-df-quickchart-complete:disabled,\n",
              "  .colab-df-quickchart-complete:disabled:hover {\n",
              "    background-color: var(--disabled-bg-color);\n",
              "    fill: var(--disabled-fill-color);\n",
              "    box-shadow: none;\n",
              "  }\n",
              "\n",
              "  .colab-df-spinner {\n",
              "    border: 2px solid var(--fill-color);\n",
              "    border-color: transparent;\n",
              "    border-bottom-color: var(--fill-color);\n",
              "    animation:\n",
              "      spin 1s steps(1) infinite;\n",
              "  }\n",
              "\n",
              "  @keyframes spin {\n",
              "    0% {\n",
              "      border-color: transparent;\n",
              "      border-bottom-color: var(--fill-color);\n",
              "      border-left-color: var(--fill-color);\n",
              "    }\n",
              "    20% {\n",
              "      border-color: transparent;\n",
              "      border-left-color: var(--fill-color);\n",
              "      border-top-color: var(--fill-color);\n",
              "    }\n",
              "    30% {\n",
              "      border-color: transparent;\n",
              "      border-left-color: var(--fill-color);\n",
              "      border-top-color: var(--fill-color);\n",
              "      border-right-color: var(--fill-color);\n",
              "    }\n",
              "    40% {\n",
              "      border-color: transparent;\n",
              "      border-right-color: var(--fill-color);\n",
              "      border-top-color: var(--fill-color);\n",
              "    }\n",
              "    60% {\n",
              "      border-color: transparent;\n",
              "      border-right-color: var(--fill-color);\n",
              "    }\n",
              "    80% {\n",
              "      border-color: transparent;\n",
              "      border-right-color: var(--fill-color);\n",
              "      border-bottom-color: var(--fill-color);\n",
              "    }\n",
              "    90% {\n",
              "      border-color: transparent;\n",
              "      border-bottom-color: var(--fill-color);\n",
              "    }\n",
              "  }\n",
              "</style>\n",
              "\n",
              "  <script>\n",
              "    async function quickchart(key) {\n",
              "      const quickchartButtonEl =\n",
              "        document.querySelector('#' + key + ' button');\n",
              "      quickchartButtonEl.disabled = true;  // To prevent multiple clicks.\n",
              "      quickchartButtonEl.classList.add('colab-df-spinner');\n",
              "      try {\n",
              "        const charts = await google.colab.kernel.invokeFunction(\n",
              "            'suggestCharts', [key], {});\n",
              "      } catch (error) {\n",
              "        console.error('Error during call to suggestCharts:', error);\n",
              "      }\n",
              "      quickchartButtonEl.classList.remove('colab-df-spinner');\n",
              "      quickchartButtonEl.classList.add('colab-df-quickchart-complete');\n",
              "    }\n",
              "    (() => {\n",
              "      let quickchartButtonEl =\n",
              "        document.querySelector('#df-f93b9e7d-5206-4015-8115-719344fc31bc button');\n",
              "      quickchartButtonEl.style.display =\n",
              "        google.colab.kernel.accessAllowed ? 'block' : 'none';\n",
              "    })();\n",
              "  </script>\n",
              "</div>\n",
              "    </div>\n",
              "  </div>\n"
            ],
            "text/plain": [
              "  Patient ID  Age     Sex  Cholesterol Blood Pressure  Heart Rate  Diabetes  \\\n",
              "0    BMW7812   67    Male          208         158/88          72         0   \n",
              "1    CZE1114   21    Male          389         165/93          98         1   \n",
              "2    BNI9906   21  Female          324         174/99          72         1   \n",
              "3    JLN3497   84    Male          383        163/100          73         1   \n",
              "4    GFO8847   66    Male          318          91/88          93         1   \n",
              "\n",
              "   Family History  Smoking  Obesity  ...  Triglycerides  \\\n",
              "0               0        1        0  ...            286   \n",
              "1               1        1        1  ...            235   \n",
              "2               0        0        0  ...            587   \n",
              "3               1        1        0  ...            378   \n",
              "4               1        1        1  ...            231   \n",
              "\n",
              "   Physical Activity Days Per Week Sleep Hours Per Day    Country  \\\n",
              "0                                0                   6  Argentina   \n",
              "1                                1                   7     Canada   \n",
              "2                                4                   4     France   \n",
              "3                                3                   4     Canada   \n",
              "4                                1                   5   Thailand   \n",
              "\n",
              "       Continent           Hemisphere  Heart Attack Risk  Income Category  \\\n",
              "0  South America  Southern Hemisphere                  0             High   \n",
              "1  North America  Northern Hemisphere                  0             High   \n",
              "2         Europe  Northern Hemisphere                  0             High   \n",
              "3  North America  Northern Hemisphere                  0           Middle   \n",
              "4           Asia  Northern Hemisphere                  0           Middle   \n",
              "\n",
              "   Risk Factor Count  Physical Activity Level  \n",
              "0                  1                      Low  \n",
              "1                  4                      Low  \n",
              "2                  2                     High  \n",
              "3                  3                 Moderate  \n",
              "4                  4                      Low  \n",
              "\n",
              "[5 rows x 29 columns]"
            ]
          },
          "execution_count": 10,
          "metadata": {},
          "output_type": "execute_result"
        }
      ],
      "source": [
        "data.head()"
      ]
    },
    {
      "cell_type": "markdown",
      "metadata": {
        "id": "79r74B-MK3HR"
      },
      "source": [
        "##Measures of the central tendency (MCTs)"
      ]
    },
    {
      "cell_type": "markdown",
      "metadata": {
        "id": "FbHVwxNGSDsv"
      },
      "source": [
        "To begin with, let's select several features and show statistical data on them (mean, mode, median). We will take those that have not been analyzed much before:\n",
        "\n",
        "* Age - we have seen a general distribution that tends to be uniform, but it is interesting to look in more detail;\n",
        "* Cholesterol - is one of the most important and dangerous factors in the analysis of heart attacks, since elevated levels lead to narrowing of the arteries. oxygen starvation;\n",
        "* Heart Rate - let's look at the general condition;\n",
        "* BMI - affects obesity, as well as the development of cardiovascular diseases;\n",
        "* Sleep - is a rather underestimated feature that affects the entire body as a whole"
      ]
    },
    {
      "cell_type": "code",
      "execution_count": null,
      "metadata": {
        "id": "-aT09jcnKCZR"
      },
      "outputs": [],
      "source": [
        "variables = ['Age', 'Cholesterol', 'Heart Rate', 'BMI', 'Sleep Hours Per Day']"
      ]
    },
    {
      "cell_type": "code",
      "execution_count": null,
      "metadata": {
        "colab": {
          "base_uri": "https://localhost:8080/"
        },
        "id": "W9UCVchsSCeM",
        "outputId": "4363679b-53d5-4704-9c4e-072d6b137631"
      },
      "outputs": [
        {
          "name": "stdout",
          "output_type": "stream",
          "text": [
            "Cholesterol: \n",
            "mean: 259.8772110007988\n",
            "mode: 235\n",
            "median: 259.0\n",
            "\n",
            "Heart Rate: \n",
            "mean: 75.02168207234965\n",
            "mode: 94\n",
            "median: 75.0\n",
            "\n",
            "BMI: \n",
            "mean: 28.891445877259635\n",
            "mode: 18.002336577801902\n",
            "median: 28.768999353101115\n",
            "\n"
          ]
        }
      ],
      "source": [
        "# MCTs for variables\n",
        "for var in variables:\n",
        "  print(f'{var}: ')\n",
        "  print('mean: ' f'{data[var].mean()}')\n",
        "  print('mode: ' f'{data[var].mode()[0]}')\n",
        "  print('median: ' f'{data[var].median()}')\n",
        "  print()"
      ]
    },
    {
      "cell_type": "markdown",
      "metadata": {
        "id": "LoAwqtPpXLJE"
      },
      "source": [
        "* Age\n",
        "\n",
        "The average age in the sample is approximately 53.71 years. A modality of 90 indicates that there are a significant number of people in the sample aged 90, which may indicate centenarians or a possible concentration of data in this age range. The median, like the average, indicates that the data sample is fairly balanced without significant outliers.\n",
        "\n",
        "\n",
        "* Cholesterol\n",
        "\n",
        "The average cholesterol level in the sample is approximately 259.88, which is a fairly high value and may indicate a high risk of cardiovascular disease among the participants. The fashion at 235 and the median at 259.0 also confirm the general trend towards high values. This requires close attention and possible interventions to reduce cholesterol levels.\n",
        "* Heart Rate\n",
        "\n",
        "The average heart rate is 75.02 beats per minute, which is within the normal range for most adults. The 94 mode indicates a significant number of observations with this value, which may be related to physical activity or other factors. The median also indicates that most values are in the normal range.\n",
        "\n",
        "* BMI\n",
        "\n",
        "The average BMI is 28.89, which indicates a tendency to overweight among the sample participants, since BMI in the range of 18.5-24.9 is considered normal. The fashion at 18.00 may indicate the presence of a certain number of underweight people. The median of 28.77 confirms that the majority of the sample is overweight or on the verge of obesity.\n",
        "\n",
        "* Sleep Hours Per Day\n",
        "\n",
        "The average number of hours of sleep per day is approximately 7.02, which is close to the recommended value for adults (7-9 hours). A fashion equal to 10 indicates the presence of a significant number of people who sleep more than 9 hours, which may be related to individual needs or health conditions. The median confirms that most people sleep for about 7 hours, which is a good indicator."
      ]
    },
    {
      "cell_type": "markdown",
      "metadata": {
        "id": "ajEHXHBlXr2t"
      },
      "source": [
        "##Outliers"
      ]
    },
    {
      "cell_type": "markdown",
      "metadata": {
        "id": "JSJFTMMTX_11"
      },
      "source": [
        "Continue to analyze some of the previous indicators, namely Cholesterol, Heart Rate, BMI.\n",
        "\n",
        "Outliers may indicate abnormal or rare cases that can strongly influence data analysis. In the task of predicting a heart attack, working with emissions is very important.\n",
        "\n",
        "BoxPlot is used for analysis, which shows the distribution of data. The central line is the median. The band between the first and third quartiles is the interquartile range (IQR). The points outside the \"whiskers\" are outliers."
      ]
    },
    {
      "cell_type": "code",
      "execution_count": null,
      "metadata": {
        "id": "Xc2JMonxUZLX"
      },
      "outputs": [],
      "source": [
        "variables = ['Cholesterol', 'Heart Rate', 'BMI']"
      ]
    },
    {
      "cell_type": "code",
      "execution_count": null,
      "metadata": {
        "colab": {
          "base_uri": "https://localhost:8080/",
          "height": 1000
        },
        "id": "cmqrv3ulYtRR",
        "outputId": "3364e1d3-3f92-482d-ed8e-6ed5a96b06ff"
      },
      "outputs": [
        {
          "data": {
            "image/png": "[encoded data removed]",
            "text/plain": [
              "<Figure size 640x480 with 1 Axes>"
            ]
          },
          "metadata": {},
          "output_type": "display_data"
        },
        {
          "data": {
            "image/png": "[encoded data removed]",
            "text/plain": [
              "<Figure size 640x480 with 1 Axes>"
            ]
          },
          "metadata": {},
          "output_type": "display_data"
        },
        {
          "data": {
            "image/png": "[encoded data removed]",
            "text/plain": [
              "<Figure size 640x480 with 1 Axes>"
            ]
          },
          "metadata": {},
          "output_type": "display_data"
        }
      ],
      "source": [
        "# Box Plot for variables\n",
        "for var in variables:\n",
        "    sns.boxplot(data[var])\n",
        "    plt.title(f'Box Plot of {var}')\n",
        "    plt.show()"
      ]
    },
    {
      "cell_type": "markdown",
      "metadata": {
        "id": "IqpX039Ob8of"
      },
      "source": [
        "General conclusions:\n",
        "\n",
        "* BMI\n",
        "Range between the 25th and 75th quartile: 23 - 34\n",
        "Comment: The range from 23 to 34 indicates that 50% of the sample participants have a Body Mass Index (BMI) within this interval. The value of the lower quartile (23) falls within the normal BMI range (18.5-24.9), while the upper quartile (34) indicates obesity (BMI > 30). This confirms that a significant portion of the sample tends towards overweight and obesity, which can increase the risk of cardiovascular diseases and other health problems.\n",
        "\n",
        "* Heart Rate\n",
        "Range between the 25th and 75th quartile: 59 - 91\n",
        "Comment: The range from 59 to 91 beats per minute indicates that 50% of participants have a heart rate within this interval. The normal heart rate for adults is 60-100 beats per minute. The lower quartile (59) is close to the lower limit of normal, which may indicate good physical fitness or, in some cases, bradycardia. The upper quartile (91) is also within the normal range but closer to the upper limit, which may be associated with physical activity or stress.\n",
        "\n",
        "* Cholesterol\n",
        "Range between the 25th and 75th quartile: 190 - 330\n",
        "Comment: The range from 190 to 330 indicates significant variability in cholesterol levels among participants. The normal total cholesterol level is less than 200 mg/dL. The lower quartile (190) is close to the upper limit of normal, which is an acceptable value. However, the upper quartile (330) significantly exceeds the norm, indicating a high risk of atherosclerosis and cardiovascular diseases in a significant part of the sample. This confirms the need to monitor cholesterol levels and possible interventions to reduce it."
      ]
    },
    {
      "cell_type": "markdown",
      "metadata": {
        "id": "8i8Vj9g2Z3QX"
      },
      "source": [
        "It can be concluded from the graphs that there are no outliers in the data.\n",
        "\n",
        "Of course, three graphs may not be enough for such an opinion. However, previous feature analyses have shown that almost all data is evenly distributed and matched. Therefore, this hypothesis has the right to exist."
      ]
    },
    {
      "cell_type": "markdown",
      "metadata": {
        "id": "IPaKJnj4cI7_"
      },
      "source": [
        "##Difference between IQR and std"
      ]
    },
    {
      "cell_type": "markdown",
      "metadata": {
        "id": "VtNjKXMKc9bs"
      },
      "source": [
        "Let's compare the two indicators and check for a match. To do this, use the IQR formula and the three sigma rule (99% of the values lie within three standard deviations from the mean)"
      ]
    },
    {
      "cell_type": "code",
      "execution_count": null,
      "metadata": {
        "id": "_XpFTycWb7S6"
      },
      "outputs": [],
      "source": [
        "# IQR function\n",
        "def detect_outliers_iqr(data, column):\n",
        "    Q1 = data[column].quantile(0.25)\n",
        "    Q3 = data[column].quantile(0.75)\n",
        "    IQR = Q3 - Q1\n",
        "    lower_bound = Q1 - 1.5 * IQR\n",
        "    upper_bound = Q3 + 1.5 * IQR\n",
        "    return data[(data[column] < lower_bound) | (data[column] > upper_bound)]"
      ]
    },
    {
      "cell_type": "code",
      "execution_count": null,
      "metadata": {
        "id": "T86qMkmHY7CH"
      },
      "outputs": [],
      "source": [
        "# std function\n",
        "def detect_outliers_std(data, column):\n",
        "    mean = data[column].mean()\n",
        "    std = data[column].std()\n",
        "    lower_bound = mean - 3 * std\n",
        "    upper_bound = mean + 3 * std\n",
        "    return data[(data[column] < lower_bound) | (data[column] > upper_bound)]"
      ]
    },
    {
      "cell_type": "code",
      "execution_count": null,
      "metadata": {
        "colab": {
          "base_uri": "https://localhost:8080/"
        },
        "id": "WHfWBsDwdr3d",
        "outputId": "434aaeba-ee43-4e0c-e6e9-92fd6561f68e"
      },
      "outputs": [
        {
          "name": "stdout",
          "output_type": "stream",
          "text": [
            "Cholesterol Outliers (IQR): 0\n",
            "Cholesterol Outliers (STD): 0\n",
            "BMI Outliers (IQR): 0\n",
            "BMI Outliers (STD): 0\n"
          ]
        }
      ],
      "source": [
        "print(f\"Cholesterol Outliers (IQR): {detect_outliers_iqr(data, 'Cholesterol').shape[0]}\")\n",
        "print(f\"Cholesterol Outliers (STD): {detect_outliers_std(data, 'Cholesterol').shape[0]}\")\n",
        "print(f\"BMI Outliers (IQR): {detect_outliers_iqr(data, 'BMI').shape[0]}\")\n",
        "print(f\"BMI Outliers (STD): {detect_outliers_std(data, 'BMI').shape[0]}\")"
      ]
    },
    {
      "cell_type": "markdown",
      "metadata": {
        "id": "YRwWEl_OfNhJ"
      },
      "source": [
        "Both methods did equally well - there are no emissions."
      ]
    },
    {
      "cell_type": "markdown",
      "metadata": {
        "id": "4LlN50p0fgge"
      },
      "source": [
        "##Missing values"
      ]
    },
    {
      "cell_type": "code",
      "execution_count": null,
      "metadata": {
        "colab": {
          "base_uri": "https://localhost:8080/"
        },
        "id": "I9GMfFYYfDc4",
        "outputId": "962aeb78-5601-4617-e3f7-7c275794bce4"
      },
      "outputs": [
        {
          "data": {
            "text/plain": [
              "0"
            ]
          },
          "execution_count": 61,
          "metadata": {},
          "output_type": "execute_result"
        }
      ],
      "source": [
        "data.isnull().sum().sum()"
      ]
    },
    {
      "cell_type": "markdown",
      "metadata": {
        "id": "ykQv1U2bf6Ms"
      },
      "source": [
        "there are no missing values."
      ]
    },
    {
      "cell_type": "markdown",
      "metadata": {
        "id": "aIj9NmxKj2Hk"
      },
      "source": [
        "##ML Algorithm"
      ]
    },
    {
      "cell_type": "markdown",
      "metadata": {
        "id": "OGs1ypb7kG9n"
      },
      "source": [
        "Use classification models because our target variable (Heart Attack Risk) is binary (1: Yes, 0: No). Let's create an experimental model."
      ]
    },
    {
      "cell_type": "code",
      "execution_count": 58,
      "metadata": {
        "id": "GpXao3lDxsZ-"
      },
      "outputs": [],
      "source": [
        "from sklearn.model_selection import train_test_split, GridSearchCV\n",
        "from sklearn.preprocessing import StandardScaler, OneHotEncoder\n",
        "from sklearn.compose import ColumnTransformer\n",
        "from sklearn.pipeline import Pipeline\n",
        "from sklearn.model_selection import cross_val_predict\n",
        "from sklearn.metrics import accuracy_score, precision_score, recall_score, f1_score, roc_auc_score, confusion_matrix, ConfusionMatrixDisplay\n",
        "\n",
        "from sklearn.linear_model import LogisticRegression\n",
        "from sklearn.ensemble import GradientBoostingClassifier\n",
        "from sklearn.ensemble import RandomForestClassifier\n",
        "from sklearn.neighbors import KNeighborsClassifier"
      ]
    },
    {
      "cell_type": "code",
      "execution_count": null,
      "metadata": {
        "id": "4CfHoh2EcKRe"
      },
      "outputs": [],
      "source": [
        "categorical_features = ['Sex', 'Diet', 'Country', 'Continent', 'Hemisphere', 'Income Category', 'Physical Activity Level']"
      ]
    },
    {
      "cell_type": "code",
      "execution_count": null,
      "metadata": {
        "id": "8pxWargzcKT9"
      },
      "outputs": [],
      "source": [
        "data.drop(['Patient ID', 'Blood Pressure'], axis=1, inplace=True)"
      ]
    },
    {
      "cell_type": "code",
      "execution_count": null,
      "metadata": {
        "colab": {
          "base_uri": "https://localhost:8080/"
        },
        "id": "Dp05wSHncKWv",
        "outputId": "b0b69c4c-bd5b-44fd-c77a-64faa9de78c7"
      },
      "outputs": [
        {
          "output_type": "stream",
          "name": "stderr",
          "text": [
            "/usr/local/lib/python3.10/dist-packages/sklearn/preprocessing/_encoders.py:868: FutureWarning: `sparse` was renamed to `sparse_output` in version 1.2 and will be removed in 1.4. `sparse_output` is ignored unless you leave `sparse` to its default value.\n",
            "  warnings.warn(\n"
          ]
        }
      ],
      "source": [
        "ohe = OneHotEncoder(drop='first', sparse=False)\n",
        "encoded_categorical = pd.DataFrame(ohe.fit_transform(data[categorical_features]), columns=ohe.get_feature_names_out(categorical_features))"
      ]
    },
    {
      "cell_type": "code",
      "execution_count": null,
      "metadata": {
        "id": "_9apnz3hcKZN"
      },
      "outputs": [],
      "source": [
        "data = pd.concat([data.drop(columns=categorical_features), encoded_categorical], axis=1)"
      ]
    },
    {
      "cell_type": "code",
      "execution_count": null,
      "metadata": {
        "id": "ZuKYz1Y3g-tM"
      },
      "outputs": [],
      "source": [
        "numeric_features = data.select_dtypes(include=['int64', 'float64']).columns.tolist()\n",
        "numeric_features.remove('Heart Attack Risk')"
      ]
    },
    {
      "cell_type": "code",
      "execution_count": null,
      "metadata": {
        "id": "6n2ty9bSg-y3"
      },
      "outputs": [],
      "source": [
        "scaler = StandardScaler()\n",
        "data[numeric_features] = scaler.fit_transform(data[numeric_features])"
      ]
    },
    {
      "cell_type": "code",
      "execution_count": null,
      "metadata": {
        "id": "ka0ioXRig-1k"
      },
      "outputs": [],
      "source": [
        "X = data.drop(columns=['Heart Attack Risk'])\n",
        "y = data['Heart Attack Risk']"
      ]
    },
    {
      "cell_type": "code",
      "execution_count": null,
      "metadata": {
        "id": "-dqeb4uyg-4F"
      },
      "outputs": [],
      "source": [
        "X_train, X_test, y_train, y_test = train_test_split(X, y, test_size=0.2, random_state=42, stratify=y)"
      ]
    },
    {
      "cell_type": "markdown",
      "source": [
        "Use 4 models of different nature: logistic regression, KN, Gradient boosting and random forest"
      ],
      "metadata": {
        "id": "-ueSpjallYRg"
      }
    },
    {
      "cell_type": "markdown",
      "source": [
        "When predicting heart attacks, it is important to consider which error is more important:\n",
        "* Precision: The proportion of truly positive predictions among all predicted positive ones. High precision means that the model rarely makes mistakes when predicting a heart attack, but may miss some cases.\n",
        "* Recall: The proportion of truly positive predictions among all actual positive ones. A high recall means that the model detects most cases of heart attacks, but can make more false positive predictions.\n",
        "\n",
        "\n",
        "In the case of predicting heart attacks:\n",
        "\n",
        "* Errors of the first kind (False Positives): The model predicts a heart attack when there is none. This can lead to unnecessary additional examinations and stress for the patient.\n",
        "* Errors of the second kind (False Negatives): The model does not predict a heart attack when there is one. This is a more dangerous mistake, since the lack of timely treatment can lead to serious consequences for the patient's health.\n",
        "\n",
        "\n",
        "In this task, it is more important to minimize errors of the second kind, that is, to increase recall so that the model identifies as many cases of heart attacks as possible."
      ],
      "metadata": {
        "id": "K95jsgs59eud"
      }
    },
    {
      "cell_type": "code",
      "execution_count": 61,
      "metadata": {
        "id": "UkcI9d_zcKb2",
        "colab": {
          "base_uri": "https://localhost:8080/"
        },
        "outputId": "be29076b-5203-4f95-ded5-ea08256a8522"
      },
      "outputs": [
        {
          "output_type": "stream",
          "name": "stdout",
          "text": [
            "Best Logistic Regression parameters: {'C': 1, 'class_weight': 'balanced', 'solver': 'liblinear'}\n"
          ]
        }
      ],
      "source": [
        "param_grid = {\n",
        "    'solver': ['liblinear', 'lbfgs'],\n",
        "    'C': [0.1, 1, 10],\n",
        "    'class_weight': ['balanced', None]\n",
        "}\n",
        "\n",
        "lr = LogisticRegression(max_iter=1000, random_state=42)\n",
        "lr_cv = GridSearchCV(lr, param_grid, cv=5, scoring='recall')\n",
        "lr_cv.fit(X_train, y_train)\n",
        "\n",
        "best_lr = lr_cv.best_estimator_\n",
        "print(\"Best Logistic Regression parameters:\", lr_cv.best_params_)"
      ]
    },
    {
      "cell_type": "code",
      "execution_count": 62,
      "metadata": {
        "id": "uQou7XyCcKeW",
        "colab": {
          "base_uri": "https://localhost:8080/"
        },
        "outputId": "253764f6-96a4-4e73-8b02-3a070a0e553f"
      },
      "outputs": [
        {
          "output_type": "stream",
          "name": "stdout",
          "text": [
            "Best Gradient Boosting parameters: {'learning_rate': 0.2, 'max_depth': 5, 'n_estimators': 200}\n"
          ]
        }
      ],
      "source": [
        "param_grid = {\n",
        "    'n_estimators': [100, 200],\n",
        "    'learning_rate': [0.01, 0.1, 0.2],\n",
        "    'max_depth': [3, 4, 5]\n",
        "}\n",
        "\n",
        "gb = GradientBoostingClassifier(random_state=42)\n",
        "gb_cv = GridSearchCV(gb, param_grid, cv=5, scoring='recall')\n",
        "gb_cv.fit(X_train, y_train)\n",
        "\n",
        "best_gb = gb_cv.best_estimator_\n",
        "print(\"Best Gradient Boosting parameters:\", gb_cv.best_params_)"
      ]
    },
    {
      "cell_type": "code",
      "execution_count": 63,
      "metadata": {
        "id": "LD3mUU0qcKhI",
        "colab": {
          "base_uri": "https://localhost:8080/"
        },
        "outputId": "ce9a5cc3-bb35-4b55-98c3-fe46dc23a1f5"
      },
      "outputs": [
        {
          "output_type": "stream",
          "name": "stdout",
          "text": [
            "Best Random Forest parameters: {'class_weight': 'balanced', 'max_depth': 5, 'min_samples_split': 2, 'n_estimators': 100}\n"
          ]
        }
      ],
      "source": [
        "param_grid = {\n",
        "    'n_estimators': [100, 200],\n",
        "    'max_depth': [5, 10, 15],\n",
        "    'min_samples_split': [2, 5, 10],\n",
        "    'class_weight': ['balanced', 'balanced_subsample', None]\n",
        "}\n",
        "\n",
        "rf = RandomForestClassifier(random_state=42)\n",
        "rf_cv = GridSearchCV(rf, param_grid, cv=5, scoring='recall')\n",
        "rf_cv.fit(X_train, y_train)\n",
        "\n",
        "best_rf = rf_cv.best_estimator_\n",
        "print(\"Best Random Forest parameters:\", rf_cv.best_params_)"
      ]
    },
    {
      "cell_type": "code",
      "source": [
        "param_grid = {\n",
        "    'n_neighbors': [3, 5, 7],\n",
        "    'weights': ['uniform', 'distance']\n",
        "}\n",
        "\n",
        "knn = KNeighborsClassifier()\n",
        "knn_cv = GridSearchCV(knn, param_grid, cv=5, scoring='recall')\n",
        "knn_cv.fit(X_train, y_train)\n",
        "\n",
        "best_knn = knn_cv.best_estimator_\n",
        "print(\"Best KNN parameters:\", knn_cv.best_params_)"
      ],
      "metadata": {
        "colab": {
          "base_uri": "https://localhost:8080/"
        },
        "id": "1hGkdiSUlrlL",
        "outputId": "7365fa58-a00e-417a-9f03-61ab96a9d203"
      },
      "execution_count": 64,
      "outputs": [
        {
          "output_type": "stream",
          "name": "stdout",
          "text": [
            "Best KNN parameters: {'n_neighbors': 3, 'weights': 'uniform'}\n"
          ]
        }
      ]
    },
    {
      "cell_type": "markdown",
      "source": [
        "After determining the best hyperparameters of the models, let's train them and look at the metrics and the confusion matrix"
      ],
      "metadata": {
        "id": "aXf5kolFmztV"
      }
    },
    {
      "cell_type": "code",
      "source": [
        "models = {\n",
        "    'Logistic Regression': best_lr,\n",
        "    'Gradient Boosting': best_gb,\n",
        "    'Random Forest': best_rf,\n",
        "    'KNN': best_knn\n",
        "}\n",
        "\n",
        "results = {}\n",
        "\n",
        "for name, model in models.items():\n",
        "    y_pred = cross_val_predict(model, X_test, y_test, cv=5, method='predict')\n",
        "    y_proba = cross_val_predict(model, X_test, y_test, cv=5, method='predict_proba')[:, 1]\n",
        "\n",
        "    results[name] = {\n",
        "        'Accuracy': accuracy_score(y_test, y_pred),\n",
        "        'Precision': precision_score(y_test, y_pred),\n",
        "        'Recall': recall_score(y_test, y_pred),\n",
        "        'F1 Score': f1_score(y_test, y_pred),\n",
        "        'ROC AUC': roc_auc_score(y_test, y_proba)\n",
        "    }\n",
        "\n",
        "    print(f\"Results for {name}:\")\n",
        "    for metric, score in results[name].items():\n",
        "        print(f\"{metric}: {score:.4f}\")\n",
        "    print(\"\\n\")\n",
        "\n",
        "    cm = confusion_matrix(y_test, y_pred)\n",
        "    disp = ConfusionMatrixDisplay(confusion_matrix=cm)\n",
        "    disp.plot()\n",
        "    plt.title(f'Confusion Matrix for {name}')\n",
        "    plt.show()"
      ],
      "metadata": {
        "id": "eFaif2ohlroM",
        "colab": {
          "base_uri": "https://localhost:8080/",
          "height": 1000
        },
        "outputId": "2178fe55-23c3-4462-f617-2ce92fab26cc"
      },
      "execution_count": 65,
      "outputs": [
        {
          "output_type": "stream",
          "name": "stdout",
          "text": [
            "Results for Logistic Regression:\n",
            "Accuracy: 0.4957\n",
            "Precision: 0.3542\n",
            "Recall: 0.4952\n",
            "F1 Score: 0.4130\n",
            "ROC AUC: 0.4801\n",
            "\n",
            "\n"
          ]
        },
        {
          "output_type": "display_data",
          "data": {
            "text/plain": [
              "<Figure size 640x480 with 2 Axes>"
            ],
            "image/png": "[encoded data removed]"
          },
          "metadata": {}
        },
        {
          "output_type": "stream",
          "name": "stdout",
          "text": [
            "Results for Gradient Boosting:\n",
            "Accuracy: 0.5904\n",
            "Precision: 0.3743\n",
            "Recall: 0.2134\n",
            "F1 Score: 0.2718\n",
            "ROC AUC: 0.5080\n",
            "\n",
            "\n"
          ]
        },
        {
          "output_type": "display_data",
          "data": {
            "text/plain": [
              "<Figure size 640x480 with 2 Axes>"
            ],
            "image/png": "[encoded data removed]"
          },
          "metadata": {}
        },
        {
          "output_type": "stream",
          "name": "stdout",
          "text": [
            "Results for Random Forest:\n",
            "Accuracy: 0.5539\n",
            "Precision: 0.3460\n",
            "Recall: 0.2755\n",
            "F1 Score: 0.3067\n",
            "ROC AUC: 0.4945\n",
            "\n",
            "\n"
          ]
        },
        {
          "output_type": "display_data",
          "data": {
            "text/plain": [
              "<Figure size 640x480 with 2 Axes>"
            ],
            "image/png": "[encoded data removed]"
          },
          "metadata": {}
        },
        {
          "output_type": "stream",
          "name": "stdout",
          "text": [
            "Results for KNN:\n",
            "Accuracy: 0.5539\n",
            "Precision: 0.3553\n",
            "Recall: 0.3010\n",
            "F1 Score: 0.3259\n",
            "ROC AUC: 0.4916\n",
            "\n",
            "\n"
          ]
        },
        {
          "output_type": "display_data",
          "data": {
            "text/plain": [
              "<Figure size 640x480 with 2 Axes>"
            ],
            "image/png": "[encoded data removed]"
          },
          "metadata": {}
        }
      ]
    },
    {
      "cell_type": "code",
      "source": [
        "print(\"Summary of models and their metrics:\")\n",
        "for name, metrics in results.items():\n",
        "    print(f\"\\n{name}:\")\n",
        "    for metric, score in metrics.items():\n",
        "        print(f\"{metric}: {score:.4f}\")"
      ],
      "metadata": {
        "id": "JaCZ6T7_lrq2",
        "colab": {
          "base_uri": "https://localhost:8080/"
        },
        "outputId": "b41cd55e-2c45-4e3b-ddec-642d308b6926"
      },
      "execution_count": 66,
      "outputs": [
        {
          "output_type": "stream",
          "name": "stdout",
          "text": [
            "Summary of models and their metrics:\n",
            "\n",
            "Logistic Regression:\n",
            "Accuracy: 0.4957\n",
            "Precision: 0.3542\n",
            "Recall: 0.4952\n",
            "F1 Score: 0.4130\n",
            "ROC AUC: 0.4801\n",
            "\n",
            "Gradient Boosting:\n",
            "Accuracy: 0.5904\n",
            "Precision: 0.3743\n",
            "Recall: 0.2134\n",
            "F1 Score: 0.2718\n",
            "ROC AUC: 0.5080\n",
            "\n",
            "Random Forest:\n",
            "Accuracy: 0.5539\n",
            "Precision: 0.3460\n",
            "Recall: 0.2755\n",
            "F1 Score: 0.3067\n",
            "ROC AUC: 0.4945\n",
            "\n",
            "KNN:\n",
            "Accuracy: 0.5539\n",
            "Precision: 0.3553\n",
            "Recall: 0.3010\n",
            "F1 Score: 0.3259\n",
            "ROC AUC: 0.4916\n"
          ]
        }
      ]
    },
    {
      "cell_type": "markdown",
      "source": [
        "* Low accuracy and quality of predictions:\n",
        "All models demonstrate relatively low Accuracy, which indicates problems with the overall quality of predictions. Gradient Boosting has the highest accuracy (0.5904), which is still not enough for reliable predictions.\n",
        "* The discrepancy between Precision and Recall:\n",
        "Precision and Recall are also at a low level. This is especially noticeable in Gradient Boosting, where Recall (0.2134) is significantly lower than Precision (0.3743). This indicates a high level of false positive or false negative results.\n",
        "* Low F1 Score:\n",
        "The F1 Score, which is the harmonic mean between Precision and Recall, is also low for all models. Logistic Regression has the maximum F1 Score (0.4130), which indicates a weak balance between Precision and Recall.\n",
        "* ROC AUC is below the threshold value:\n",
        "The ROC AUC, which shows the model's ability to distinguish classes, is also below the 0.5 threshold for all models, indicating almost random guessing. Gradient Boosting has the best metric (0.5080), but it is slightly higher than 0.5."
      ],
      "metadata": {
        "id": "LTUMrNYw6FZr"
      }
    },
    {
      "cell_type": "markdown",
      "source": [
        "Let's try to create an ensemble of trained models. Perhaps this will improve the situation."
      ],
      "metadata": {
        "id": "0D3bHR476Fgg"
      }
    },
    {
      "cell_type": "code",
      "source": [
        "from sklearn.ensemble import VotingClassifier"
      ],
      "metadata": {
        "id": "Ae1qlmHL6Ft0"
      },
      "execution_count": 69,
      "outputs": []
    },
    {
      "cell_type": "code",
      "source": [
        "best_lr_params = {'C': 1, 'class_weight': 'balanced', 'solver': 'liblinear'}\n",
        "best_gb_params = {'learning_rate': 0.2, 'max_depth': 5, 'n_estimators': 200}\n",
        "best_rf_params = {'class_weight': 'balanced', 'max_depth': 5, 'min_samples_split': 2, 'n_estimators': 100}\n",
        "best_knn_params = {'n_neighbors': 3, 'weights': 'uniform'}\n",
        "\n",
        "best_lr = LogisticRegression(**best_lr_params, max_iter=1000, random_state=42)\n",
        "best_gb = GradientBoostingClassifier(**best_gb_params, random_state=42)\n",
        "best_rf = RandomForestClassifier(**best_rf_params, random_state=42)\n",
        "best_knn = KNeighborsClassifier(**best_knn_params)\n",
        "\n",
        "voting_clf = VotingClassifier(estimators=[\n",
        "    ('lr', best_lr),\n",
        "    ('gb', best_gb),\n",
        "    ('rf', best_rf),\n",
        "    ('knn', best_knn)],\n",
        "    voting='soft')\n",
        "\n",
        "y_pred = cross_val_predict(voting_clf, X_test, y_test, cv=5, method='predict')\n",
        "y_proba = cross_val_predict(voting_clf, X_test, y_test, cv=5, method='predict_proba')[:, 1]\n",
        "\n",
        "results = {\n",
        "    'Accuracy': accuracy_score(y_test, y_pred),\n",
        "    'Precision': precision_score(y_test, y_pred),\n",
        "    'Recall': recall_score(y_test, y_pred),\n",
        "    'F1 Score': f1_score(y_test, y_pred),\n",
        "    'ROC AUC': roc_auc_score(y_test, y_proba)\n",
        "}\n",
        "\n",
        "print(\"Results for Voting Classifier Ensemble:\")\n",
        "for metric, score in results.items():\n",
        "    print(f\"{metric}: {score:.4f}\")\n",
        "print(\"\\n\")\n",
        "\n",
        "cm = confusion_matrix(y_test, y_pred)\n",
        "disp = ConfusionMatrixDisplay(confusion_matrix=cm)\n",
        "disp.plot()\n",
        "plt.title('Confusion Matrix for Voting Classifier Ensemble')\n",
        "plt.show()"
      ],
      "metadata": {
        "colab": {
          "base_uri": "https://localhost:8080/",
          "height": 610
        },
        "id": "seQaeA_k6GYJ",
        "outputId": "318ef1c9-eb50-4af3-9b00-60fa3fcbfc84"
      },
      "execution_count": 70,
      "outputs": [
        {
          "output_type": "stream",
          "name": "stdout",
          "text": [
            "Results for Voting Classifier Ensemble:\n",
            "Accuracy: 0.5836\n",
            "Precision: 0.3551\n",
            "Recall: 0.1990\n",
            "F1 Score: 0.2551\n",
            "ROC AUC: 0.4948\n",
            "\n",
            "\n"
          ]
        },
        {
          "output_type": "display_data",
          "data": {
            "text/plain": [
              "<Figure size 640x480 with 2 Axes>"
            ],
            "image/png": "[encoded data removed]"
          },
          "metadata": {}
        }
      ]
    },
    {
      "cell_type": "markdown",
      "source": [
        "* Problems with Recall and F1 Score:\n",
        "Despite the use of the ensemble, Recall and F1 Score remain at a low level, especially Recall (0.1990). This indicates that the ensemble is still doing a poor job of detecting positive cases (patients at risk of heart attack).\n",
        "* Minor improvement in Accuracy:\n",
        "The accuracy of the model has increased to 0.5836, which is slightly higher compared to individual models, but still not enough for reliable prediction. This indicates that the ensemble may be more accurate in general predictions, but does not solve the problem of class imbalance.\n",
        "* Stable Precision level:\n",
        "The precision of the ensemble is at 0.3551, which is comparable to the results of individual models. This means that the ensemble does not improve the accuracy of predictions of positive cases.\n",
        "* ROC AUC remains low:\n",
        "The ROC AUC value (0.4948) also remains below 0.5, which indicates the weak ability of the model to distinguish between positive and negative classes. This value has hardly changed compared to individual models."
      ],
      "metadata": {
        "id": "LN01K-gN3zra"
      }
    },
    {
      "cell_type": "markdown",
      "source": [
        "Overall, creating an ensemble of models led to a slight improvement in Accuracy, but did not solve the problems with low Recall and F1 Score values."
      ],
      "metadata": {
        "id": "SQgeEQh88lHc"
      }
    }
  ],
  "metadata": {
    "colab": {
      "provenance": []
    },
    "kernelspec": {
      "display_name": "Python 3",
      "name": "python3"
    },
    "language_info": {
      "name": "python"
    }
  },
  "nbformat": 4,
  "nbformat_minor": 0
}